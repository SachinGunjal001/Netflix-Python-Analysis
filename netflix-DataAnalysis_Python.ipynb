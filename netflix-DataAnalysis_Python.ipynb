{
 "cells": [
  {
   "cell_type": "markdown",
   "id": "27f76a92",
   "metadata": {
    "papermill": {
     "duration": 0.00759,
     "end_time": "2025-08-03T10:55:45.415921",
     "exception": false,
     "start_time": "2025-08-03T10:55:45.408331",
     "status": "completed"
    },
    "tags": []
   },
   "source": [
    "# Netflix Data Analysis\n",
    "  This analysis answers specific questions about movies and TV shows, including their show IDs, directors, release years, categories, and more. The analysis uses Python with libraries such as Pandas, NumPy, Matplotlib, and Seaborn for data manipulation and visualization. Below, each question is addressed with code, explanations, and output interpretations."
   ]
  },
  {
   "cell_type": "code",
   "execution_count": 1,
   "id": "25bb3842",
   "metadata": {
    "execution": {
     "iopub.execute_input": "2025-08-03T10:55:45.431524Z",
     "iopub.status.busy": "2025-08-03T10:55:45.431126Z",
     "iopub.status.idle": "2025-08-03T10:55:49.450405Z",
     "shell.execute_reply": "2025-08-03T10:55:49.449302Z"
    },
    "papermill": {
     "duration": 4.029335,
     "end_time": "2025-08-03T10:55:49.452266",
     "exception": false,
     "start_time": "2025-08-03T10:55:45.422931",
     "status": "completed"
    },
    "tags": []
   },
   "outputs": [],
   "source": [
    "#importing necessary libraries\n",
    "\n",
    "import pandas as pd\n",
    "import numpy as np\n",
    "import matplotlib.pyplot as plt\n",
    "import seaborn as sns"
   ]
  },
  {
   "cell_type": "markdown",
   "id": "d7b007fa",
   "metadata": {
    "papermill": {
     "duration": 0.006249,
     "end_time": "2025-08-03T10:55:49.465501",
     "exception": false,
     "start_time": "2025-08-03T10:55:49.459252",
     "status": "completed"
    },
    "tags": []
   },
   "source": [
    "## 1. Loading the Dataset\n",
    "`pd.read_csv()` function loads the Netflix dataset from a CSV file into a Pandas DataFrame, enabling data manipulation and analysis."
   ]
  },
  {
   "cell_type": "code",
   "execution_count": 2,
   "id": "f4963c63",
   "metadata": {
    "execution": {
     "iopub.execute_input": "2025-08-03T10:55:49.482018Z",
     "iopub.status.busy": "2025-08-03T10:55:49.480574Z",
     "iopub.status.idle": "2025-08-03T10:55:49.615828Z",
     "shell.execute_reply": "2025-08-03T10:55:49.614469Z"
    },
    "papermill": {
     "duration": 0.14482,
     "end_time": "2025-08-03T10:55:49.617715",
     "exception": false,
     "start_time": "2025-08-03T10:55:49.472895",
     "status": "completed"
    },
    "tags": []
   },
   "outputs": [
    {
     "data": {
      "text/html": [
       "<div>\n",
       "<style scoped>\n",
       "    .dataframe tbody tr th:only-of-type {\n",
       "        vertical-align: middle;\n",
       "    }\n",
       "\n",
       "    .dataframe tbody tr th {\n",
       "        vertical-align: top;\n",
       "    }\n",
       "\n",
       "    .dataframe thead th {\n",
       "        text-align: right;\n",
       "    }\n",
       "</style>\n",
       "<table border=\"1\" class=\"dataframe\">\n",
       "  <thead>\n",
       "    <tr style=\"text-align: right;\">\n",
       "      <th></th>\n",
       "      <th>Show_Id</th>\n",
       "      <th>Category</th>\n",
       "      <th>Title</th>\n",
       "      <th>Director</th>\n",
       "      <th>Cast</th>\n",
       "      <th>Country</th>\n",
       "      <th>Release_Date</th>\n",
       "      <th>Rating</th>\n",
       "      <th>Duration</th>\n",
       "      <th>Type</th>\n",
       "      <th>Description</th>\n",
       "    </tr>\n",
       "  </thead>\n",
       "  <tbody>\n",
       "    <tr>\n",
       "      <th>0</th>\n",
       "      <td>s1</td>\n",
       "      <td>TV Show</td>\n",
       "      <td>3%</td>\n",
       "      <td>NaN</td>\n",
       "      <td>João Miguel, Bianca Comparato, Michel Gomes, R...</td>\n",
       "      <td>Brazil</td>\n",
       "      <td>August 14, 2020</td>\n",
       "      <td>TV-MA</td>\n",
       "      <td>4 Seasons</td>\n",
       "      <td>International TV Shows, TV Dramas, TV Sci-Fi &amp;...</td>\n",
       "      <td>In a future where the elite inhabit an island ...</td>\n",
       "    </tr>\n",
       "    <tr>\n",
       "      <th>1</th>\n",
       "      <td>s2</td>\n",
       "      <td>Movie</td>\n",
       "      <td>07:19</td>\n",
       "      <td>Jorge Michel Grau</td>\n",
       "      <td>Demián Bichir, Héctor Bonilla, Oscar Serrano, ...</td>\n",
       "      <td>Mexico</td>\n",
       "      <td>December 23, 2016</td>\n",
       "      <td>TV-MA</td>\n",
       "      <td>93 min</td>\n",
       "      <td>Dramas, International Movies</td>\n",
       "      <td>After a devastating earthquake hits Mexico Cit...</td>\n",
       "    </tr>\n",
       "    <tr>\n",
       "      <th>2</th>\n",
       "      <td>s3</td>\n",
       "      <td>Movie</td>\n",
       "      <td>23:59</td>\n",
       "      <td>Gilbert Chan</td>\n",
       "      <td>Tedd Chan, Stella Chung, Henley Hii, Lawrence ...</td>\n",
       "      <td>Singapore</td>\n",
       "      <td>December 20, 2018</td>\n",
       "      <td>R</td>\n",
       "      <td>78 min</td>\n",
       "      <td>Horror Movies, International Movies</td>\n",
       "      <td>When an army recruit is found dead, his fellow...</td>\n",
       "    </tr>\n",
       "    <tr>\n",
       "      <th>3</th>\n",
       "      <td>s4</td>\n",
       "      <td>Movie</td>\n",
       "      <td>9</td>\n",
       "      <td>Shane Acker</td>\n",
       "      <td>Elijah Wood, John C. Reilly, Jennifer Connelly...</td>\n",
       "      <td>United States</td>\n",
       "      <td>November 16, 2017</td>\n",
       "      <td>PG-13</td>\n",
       "      <td>80 min</td>\n",
       "      <td>Action &amp; Adventure, Independent Movies, Sci-Fi...</td>\n",
       "      <td>In a postapocalyptic world, rag-doll robots hi...</td>\n",
       "    </tr>\n",
       "    <tr>\n",
       "      <th>4</th>\n",
       "      <td>s5</td>\n",
       "      <td>Movie</td>\n",
       "      <td>21</td>\n",
       "      <td>Robert Luketic</td>\n",
       "      <td>Jim Sturgess, Kevin Spacey, Kate Bosworth, Aar...</td>\n",
       "      <td>United States</td>\n",
       "      <td>January 1, 2020</td>\n",
       "      <td>PG-13</td>\n",
       "      <td>123 min</td>\n",
       "      <td>Dramas</td>\n",
       "      <td>A brilliant group of students become card-coun...</td>\n",
       "    </tr>\n",
       "    <tr>\n",
       "      <th>5</th>\n",
       "      <td>s6</td>\n",
       "      <td>TV Show</td>\n",
       "      <td>46</td>\n",
       "      <td>Serdar Akar</td>\n",
       "      <td>Erdal Beşikçioğlu, Yasemin Allen, Melis Birkan...</td>\n",
       "      <td>Turkey</td>\n",
       "      <td>July 1, 2017</td>\n",
       "      <td>TV-MA</td>\n",
       "      <td>1 Season</td>\n",
       "      <td>International TV Shows, TV Dramas, TV Mysteries</td>\n",
       "      <td>A genetics professor experiments with a treatm...</td>\n",
       "    </tr>\n",
       "    <tr>\n",
       "      <th>6</th>\n",
       "      <td>s7</td>\n",
       "      <td>Movie</td>\n",
       "      <td>122</td>\n",
       "      <td>Yasir Al Yasiri</td>\n",
       "      <td>Amina Khalil, Ahmed Dawood, Tarek Lotfy, Ahmed...</td>\n",
       "      <td>Egypt</td>\n",
       "      <td>June 1, 2020</td>\n",
       "      <td>TV-MA</td>\n",
       "      <td>95 min</td>\n",
       "      <td>Horror Movies, International Movies</td>\n",
       "      <td>After an awful accident, a couple admitted to ...</td>\n",
       "    </tr>\n",
       "  </tbody>\n",
       "</table>\n",
       "</div>"
      ],
      "text/plain": [
       "  Show_Id Category  Title           Director  \\\n",
       "0      s1  TV Show     3%                NaN   \n",
       "1      s2    Movie  07:19  Jorge Michel Grau   \n",
       "2      s3    Movie  23:59       Gilbert Chan   \n",
       "3      s4    Movie      9        Shane Acker   \n",
       "4      s5    Movie     21     Robert Luketic   \n",
       "5      s6  TV Show     46        Serdar Akar   \n",
       "6      s7    Movie    122    Yasir Al Yasiri   \n",
       "\n",
       "                                                Cast        Country  \\\n",
       "0  João Miguel, Bianca Comparato, Michel Gomes, R...         Brazil   \n",
       "1  Demián Bichir, Héctor Bonilla, Oscar Serrano, ...         Mexico   \n",
       "2  Tedd Chan, Stella Chung, Henley Hii, Lawrence ...      Singapore   \n",
       "3  Elijah Wood, John C. Reilly, Jennifer Connelly...  United States   \n",
       "4  Jim Sturgess, Kevin Spacey, Kate Bosworth, Aar...  United States   \n",
       "5  Erdal Beşikçioğlu, Yasemin Allen, Melis Birkan...         Turkey   \n",
       "6  Amina Khalil, Ahmed Dawood, Tarek Lotfy, Ahmed...          Egypt   \n",
       "\n",
       "        Release_Date Rating   Duration  \\\n",
       "0    August 14, 2020  TV-MA  4 Seasons   \n",
       "1  December 23, 2016  TV-MA     93 min   \n",
       "2  December 20, 2018      R     78 min   \n",
       "3  November 16, 2017  PG-13     80 min   \n",
       "4    January 1, 2020  PG-13    123 min   \n",
       "5       July 1, 2017  TV-MA   1 Season   \n",
       "6       June 1, 2020  TV-MA     95 min   \n",
       "\n",
       "                                                Type  \\\n",
       "0  International TV Shows, TV Dramas, TV Sci-Fi &...   \n",
       "1                       Dramas, International Movies   \n",
       "2                Horror Movies, International Movies   \n",
       "3  Action & Adventure, Independent Movies, Sci-Fi...   \n",
       "4                                             Dramas   \n",
       "5    International TV Shows, TV Dramas, TV Mysteries   \n",
       "6                Horror Movies, International Movies   \n",
       "\n",
       "                                         Description  \n",
       "0  In a future where the elite inhabit an island ...  \n",
       "1  After a devastating earthquake hits Mexico Cit...  \n",
       "2  When an army recruit is found dead, his fellow...  \n",
       "3  In a postapocalyptic world, rag-doll robots hi...  \n",
       "4  A brilliant group of students become card-coun...  \n",
       "5  A genetics professor experiments with a treatm...  \n",
       "6  After an awful accident, a couple admitted to ...  "
      ]
     },
     "execution_count": 2,
     "metadata": {},
     "output_type": "execute_result"
    }
   ],
   "source": [
    "df = pd.read_csv('NetflixData.csv')\n",
    "df.head(7)"
   ]
  },
  {
   "cell_type": "code",
   "execution_count": 3,
   "id": "33a2fd74",
   "metadata": {},
   "outputs": [
    {
     "data": {
      "text/plain": [
       "(7789, 11)"
      ]
     },
     "execution_count": 3,
     "metadata": {},
     "output_type": "execute_result"
    }
   ],
   "source": [
    "df.shape"
   ]
  },
  {
   "cell_type": "code",
   "execution_count": 4,
   "id": "0355b6c7",
   "metadata": {},
   "outputs": [
    {
     "name": "stdout",
     "output_type": "stream",
     "text": [
      "<class 'pandas.core.frame.DataFrame'>\n",
      "RangeIndex: 7789 entries, 0 to 7788\n",
      "Data columns (total 11 columns):\n",
      " #   Column        Non-Null Count  Dtype \n",
      "---  ------        --------------  ----- \n",
      " 0   Show_Id       7789 non-null   object\n",
      " 1   Category      7789 non-null   object\n",
      " 2   Title         7789 non-null   object\n",
      " 3   Director      5401 non-null   object\n",
      " 4   Cast          7071 non-null   object\n",
      " 5   Country       7282 non-null   object\n",
      " 6   Release_Date  7779 non-null   object\n",
      " 7   Rating        7782 non-null   object\n",
      " 8   Duration      7789 non-null   object\n",
      " 9   Type          7789 non-null   object\n",
      " 10  Description   7789 non-null   object\n",
      "dtypes: object(11)\n",
      "memory usage: 669.5+ KB\n"
     ]
    }
   ],
   "source": [
    "df.info()"
   ]
  },
  {
   "cell_type": "code",
   "execution_count": 5,
   "id": "119d69db",
   "metadata": {},
   "outputs": [
    {
     "data": {
      "text/html": [
       "<div>\n",
       "<style scoped>\n",
       "    .dataframe tbody tr th:only-of-type {\n",
       "        vertical-align: middle;\n",
       "    }\n",
       "\n",
       "    .dataframe tbody tr th {\n",
       "        vertical-align: top;\n",
       "    }\n",
       "\n",
       "    .dataframe thead th {\n",
       "        text-align: right;\n",
       "    }\n",
       "</style>\n",
       "<table border=\"1\" class=\"dataframe\">\n",
       "  <thead>\n",
       "    <tr style=\"text-align: right;\">\n",
       "      <th></th>\n",
       "      <th>Show_Id</th>\n",
       "      <th>Category</th>\n",
       "      <th>Title</th>\n",
       "      <th>Director</th>\n",
       "      <th>Cast</th>\n",
       "      <th>Country</th>\n",
       "      <th>Release_Date</th>\n",
       "      <th>Rating</th>\n",
       "      <th>Duration</th>\n",
       "      <th>Type</th>\n",
       "      <th>Description</th>\n",
       "    </tr>\n",
       "  </thead>\n",
       "  <tbody>\n",
       "    <tr>\n",
       "      <th>count</th>\n",
       "      <td>7789</td>\n",
       "      <td>7789</td>\n",
       "      <td>7789</td>\n",
       "      <td>5401</td>\n",
       "      <td>7071</td>\n",
       "      <td>7282</td>\n",
       "      <td>7779</td>\n",
       "      <td>7782</td>\n",
       "      <td>7789</td>\n",
       "      <td>7789</td>\n",
       "      <td>7789</td>\n",
       "    </tr>\n",
       "    <tr>\n",
       "      <th>unique</th>\n",
       "      <td>7787</td>\n",
       "      <td>2</td>\n",
       "      <td>7787</td>\n",
       "      <td>4050</td>\n",
       "      <td>6831</td>\n",
       "      <td>681</td>\n",
       "      <td>1565</td>\n",
       "      <td>14</td>\n",
       "      <td>216</td>\n",
       "      <td>492</td>\n",
       "      <td>7769</td>\n",
       "    </tr>\n",
       "    <tr>\n",
       "      <th>top</th>\n",
       "      <td>s684</td>\n",
       "      <td>Movie</td>\n",
       "      <td>Backfire</td>\n",
       "      <td>Raúl Campos, Jan Suter</td>\n",
       "      <td>David Attenborough</td>\n",
       "      <td>United States</td>\n",
       "      <td>January 1, 2020</td>\n",
       "      <td>TV-MA</td>\n",
       "      <td>1 Season</td>\n",
       "      <td>Documentaries</td>\n",
       "      <td>Multiple women report their husbands as missin...</td>\n",
       "    </tr>\n",
       "    <tr>\n",
       "      <th>freq</th>\n",
       "      <td>2</td>\n",
       "      <td>5379</td>\n",
       "      <td>2</td>\n",
       "      <td>18</td>\n",
       "      <td>18</td>\n",
       "      <td>2556</td>\n",
       "      <td>118</td>\n",
       "      <td>2865</td>\n",
       "      <td>1608</td>\n",
       "      <td>334</td>\n",
       "      <td>3</td>\n",
       "    </tr>\n",
       "  </tbody>\n",
       "</table>\n",
       "</div>"
      ],
      "text/plain": [
       "       Show_Id Category     Title                Director                Cast  \\\n",
       "count     7789     7789      7789                    5401                7071   \n",
       "unique    7787        2      7787                    4050                6831   \n",
       "top       s684    Movie  Backfire  Raúl Campos, Jan Suter  David Attenborough   \n",
       "freq         2     5379         2                      18                  18   \n",
       "\n",
       "              Country     Release_Date Rating  Duration           Type  \\\n",
       "count            7282             7779   7782      7789           7789   \n",
       "unique            681             1565     14       216            492   \n",
       "top     United States  January 1, 2020  TV-MA  1 Season  Documentaries   \n",
       "freq             2556              118   2865      1608            334   \n",
       "\n",
       "                                              Description  \n",
       "count                                                7789  \n",
       "unique                                               7769  \n",
       "top     Multiple women report their husbands as missin...  \n",
       "freq                                                    3  "
      ]
     },
     "execution_count": 5,
     "metadata": {},
     "output_type": "execute_result"
    }
   ],
   "source": [
    "df.describe()"
   ]
  },
  {
   "cell_type": "code",
   "execution_count": 6,
   "id": "e3be6ae1",
   "metadata": {},
   "outputs": [
    {
     "data": {
      "text/plain": [
       "Index(['Show_Id', 'Category', 'Title', 'Director', 'Cast', 'Country',\n",
       "       'Release_Date', 'Rating', 'Duration', 'Type', 'Description'],\n",
       "      dtype='object')"
      ]
     },
     "execution_count": 6,
     "metadata": {},
     "output_type": "execute_result"
    }
   ],
   "source": [
    "df.columns"
   ]
  },
  {
   "cell_type": "code",
   "execution_count": 7,
   "id": "8cb5898b",
   "metadata": {},
   "outputs": [
    {
     "data": {
      "text/plain": [
       "Type\n",
       "Documentaries                                                  334\n",
       "Stand-Up Comedy                                                321\n",
       "Dramas, International Movies                                   320\n",
       "Comedies, Dramas, International Movies                         243\n",
       "Dramas, Independent Movies, International Movies               215\n",
       "                                                              ... \n",
       "Crime TV Shows, International TV Shows, TV Sci-Fi & Fantasy      1\n",
       "Docuseries, Science & Nature TV, TV Action & Adventure           1\n",
       "British TV Shows, Classic & Cult TV, Kids' TV                    1\n",
       "Docuseries, TV Sci-Fi & Fantasy                                  1\n",
       "Children & Family Movies, Dramas, Music & Musicals               1\n",
       "Name: count, Length: 492, dtype: int64"
      ]
     },
     "execution_count": 7,
     "metadata": {},
     "output_type": "execute_result"
    }
   ],
   "source": [
    "df['Category'].unique()\n",
    "df['Director'].nunique()\n",
    "df['Country'].nunique()\n",
    "df['Type'].nunique()\n",
    "\n",
    "df['Category'].value_counts()\n",
    "df['Director'].value_counts()\n",
    "df['Country'].value_counts()\n",
    "df['Type'].value_counts()"
   ]
  },
  {
   "cell_type": "code",
   "execution_count": 8,
   "id": "363297a3",
   "metadata": {},
   "outputs": [
    {
     "name": "stdout",
     "output_type": "stream",
     "text": [
      "Categorical:  ['Show_Id', 'Category', 'Title', 'Director', 'Cast', 'Country', 'Release_Date', 'Rating', 'Duration', 'Type', 'Description'] \n",
      " Numerical:  []\n"
     ]
    }
   ],
   "source": [
    "cat=[]\n",
    "con=[]\n",
    "for i in df.columns:\n",
    "    if df[i].dtype == 'object':\n",
    "        cat.append(i)\n",
    "    else:\n",
    "        con.append(i)\n",
    "\n",
    "print(\"Categorical: \",cat, \"\\n\", \"Numerical: \",con)"
   ]
  },
  {
   "cell_type": "markdown",
   "id": "0dc4322e",
   "metadata": {
    "papermill": {
     "duration": 0.006233,
     "end_time": "2025-08-03T10:55:49.630641",
     "exception": false,
     "start_time": "2025-08-03T10:55:49.624408",
     "status": "completed"
    },
    "tags": []
   },
   "source": [
    "For 'House of Cards', what is the Show Id and Who is the Director of this show?\n"
   ]
  },
  {
   "cell_type": "code",
   "execution_count": 9,
   "id": "45b5d884",
   "metadata": {},
   "outputs": [
    {
     "data": {
      "text/html": [
       "<div>\n",
       "<style scoped>\n",
       "    .dataframe tbody tr th:only-of-type {\n",
       "        vertical-align: middle;\n",
       "    }\n",
       "\n",
       "    .dataframe tbody tr th {\n",
       "        vertical-align: top;\n",
       "    }\n",
       "\n",
       "    .dataframe thead th {\n",
       "        text-align: right;\n",
       "    }\n",
       "</style>\n",
       "<table border=\"1\" class=\"dataframe\">\n",
       "  <thead>\n",
       "    <tr style=\"text-align: right;\">\n",
       "      <th></th>\n",
       "      <th>Show_Id</th>\n",
       "      <th>Director</th>\n",
       "      <th>Country</th>\n",
       "      <th>Rating</th>\n",
       "      <th>Duration</th>\n",
       "    </tr>\n",
       "  </thead>\n",
       "  <tbody>\n",
       "    <tr>\n",
       "      <th>2832</th>\n",
       "      <td>s2833</td>\n",
       "      <td>Robin Wright, David Fincher, Gerald McRaney, J...</td>\n",
       "      <td>United States</td>\n",
       "      <td>TV-MA</td>\n",
       "      <td>6 Seasons</td>\n",
       "    </tr>\n",
       "  </tbody>\n",
       "</table>\n",
       "</div>"
      ],
      "text/plain": [
       "     Show_Id                                           Director  \\\n",
       "2832   s2833  Robin Wright, David Fincher, Gerald McRaney, J...   \n",
       "\n",
       "            Country Rating   Duration  \n",
       "2832  United States  TV-MA  6 Seasons  "
      ]
     },
     "execution_count": 9,
     "metadata": {},
     "output_type": "execute_result"
    }
   ],
   "source": [
    "HoC = df[df['Title']=='House of Cards'][['Show_Id', 'Director', 'Country','Rating', 'Duration']]\n",
    "HoC"
   ]
  },
  {
   "cell_type": "markdown",
   "id": "c93605d4",
   "metadata": {
    "papermill": {
     "duration": 0.006359,
     "end_time": "2025-08-03T10:55:49.691599",
     "exception": false,
     "start_time": "2025-08-03T10:55:49.685240",
     "status": "completed"
    },
    "tags": []
   },
   "source": [
    "In which year the highest number of TV Shows & Movies were released? Show with Bar Graph.\n",
    "\n",
    "`Year` extracted from `Release_Date` using `pd.to_datetime()`. \n",
    "`value_counts()` method counts releases per year, \n",
    "`idxmax()` identifies the year with the most releases.\n",
    "\n"
   ]
  },
  {
   "cell_type": "code",
   "execution_count": 10,
   "id": "8255b63c",
   "metadata": {
    "execution": {
     "iopub.execute_input": "2025-08-03T10:55:49.706272Z",
     "iopub.status.busy": "2025-08-03T10:55:49.705945Z",
     "iopub.status.idle": "2025-08-03T10:55:49.725091Z",
     "shell.execute_reply": "2025-08-03T10:55:49.724170Z"
    },
    "papermill": {
     "duration": 0.028694,
     "end_time": "2025-08-03T10:55:49.726940",
     "exception": false,
     "start_time": "2025-08-03T10:55:49.698246",
     "status": "completed"
    },
    "tags": []
   },
   "outputs": [
    {
     "data": {
      "text/plain": [
       "0       2020.0\n",
       "1       2016.0\n",
       "2       2018.0\n",
       "3       2017.0\n",
       "4       2020.0\n",
       "         ...  \n",
       "7784    2020.0\n",
       "7785    2019.0\n",
       "7786    2020.0\n",
       "7787    2020.0\n",
       "7788    2020.0\n",
       "Name: Year, Length: 7789, dtype: float64"
      ]
     },
     "execution_count": 10,
     "metadata": {},
     "output_type": "execute_result"
    }
   ],
   "source": [
    "df['Year'] = pd.to_datetime(df['Release_Date'], errors='coerce').dt.year\n",
    "df['Year']"
   ]
  },
  {
   "cell_type": "code",
   "execution_count": 11,
   "id": "34a90312",
   "metadata": {},
   "outputs": [],
   "source": [
    "Total_movies = df['Year'].value_counts().idxmax()"
   ]
  },
  {
   "cell_type": "code",
   "execution_count": 12,
   "id": "eec6c78c",
   "metadata": {},
   "outputs": [
    {
     "data": {
      "image/png": "[encoded data removed]",
      "text/plain": [
       "<Figure size 1200x600 with 1 Axes>"
      ]
     },
     "metadata": {},
     "output_type": "display_data"
    }
   ],
   "source": [
    "# Line chart: Movies count by year\n",
    "movies_per_year = df[df['Category'] == 'Movie']['Year'].value_counts().sort_index()\n",
    "plt.figure(figsize=(12,6))\n",
    "plt.plot(movies_per_year.index, movies_per_year.values, marker='o')\n",
    "plt.title('Number of Movies Released Each Year')\n",
    "plt.xlabel('Year')\n",
    "plt.ylabel('Movies Count')\n",
    "plt.show()"
   ]
  },
  {
   "cell_type": "code",
   "execution_count": 13,
   "id": "03bedefb",
   "metadata": {},
   "outputs": [
    {
     "data": {
      "image/png": "[encoded data removed]",
      "text/plain": [
       "<Figure size 1200x600 with 1 Axes>"
      ]
     },
     "metadata": {},
     "output_type": "display_data"
    }
   ],
   "source": [
    "# Histogram: Movies count by year\n",
    "plt.figure(figsize=(12,6))\n",
    "plt.hist(df[df['Category'] == 'Movie']['Year'].dropna(), bins=15, edgecolor='black')\n",
    "plt.title('Distribution of Movies Released Each Year')\n",
    "plt.xlabel('Year')\n",
    "plt.ylabel('Number of Movies')\n",
    "plt.show()"
   ]
  },
  {
   "cell_type": "code",
   "execution_count": 14,
   "id": "b477ac50",
   "metadata": {
    "execution": {
     "iopub.execute_input": "2025-08-03T10:55:49.742156Z",
     "iopub.status.busy": "2025-08-03T10:55:49.741815Z",
     "iopub.status.idle": "2025-08-03T10:55:50.181312Z",
     "shell.execute_reply": "2025-08-03T10:55:50.180376Z"
    },
    "papermill": {
     "duration": 0.44936,
     "end_time": "2025-08-03T10:55:50.183181",
     "exception": false,
     "start_time": "2025-08-03T10:55:49.733821",
     "status": "completed"
    },
    "tags": []
   },
   "outputs": [
    {
     "name": "stdout",
     "output_type": "stream",
     "text": [
      "Year with highest number of releases: 2019.0\n"
     ]
    },
    {
     "data": {
      "image/png": "[encoded data removed]",
      "text/plain": [
       "<Figure size 640x480 with 1 Axes>"
      ]
     },
     "metadata": {},
     "output_type": "display_data"
    }
   ],
   "source": [
    "print(f'Year with highest number of releases: {Total_movies}')\n",
    "plt.Figure(figsize=(15,6))\n",
    "sns.countplot(data=df, x='Year')\n",
    "plt.title('Number of Releases by Year')\n",
    "plt.xlabel('Year')\n",
    "plt.ylabel('Count')\n",
    "plt.xticks(rotation=45)\n",
    "plt.show()"
   ]
  },
  {
   "cell_type": "markdown",
   "id": "3b5635d6",
   "metadata": {
    "papermill": {
     "duration": 0.007029,
     "end_time": "2025-08-03T10:55:50.197820",
     "exception": false,
     "start_time": "2025-08-03T10:55:50.190791",
     "status": "completed"
    },
    "tags": []
   },
   "source": [
    "## Movies & TV Shows are in the dataset? Show with Bar Graph.\n",
    "The `value_counts()` method on the `Category` column counts the number of Movies and TV Shows. A bar graph is created using `sns.countplot()` to visualize the counts.\n",
    "\n",
    "The output shows the counts of Movies and TV Shows, with a bar graph comparing the two categories. The height of each bar represents the number of entries."
   ]
  },
  {
   "cell_type": "code",
   "execution_count": 15,
   "id": "6f34f1f5",
   "metadata": {
    "execution": {
     "iopub.execute_input": "2025-08-03T10:55:50.224505Z",
     "iopub.status.busy": "2025-08-03T10:55:50.223874Z",
     "iopub.status.idle": "2025-08-03T10:55:50.368795Z",
     "shell.execute_reply": "2025-08-03T10:55:50.367667Z"
    },
    "papermill": {
     "duration": 0.164762,
     "end_time": "2025-08-03T10:55:50.370610",
     "exception": false,
     "start_time": "2025-08-03T10:55:50.205848",
     "status": "completed"
    },
    "tags": []
   },
   "outputs": [
    {
     "name": "stdout",
     "output_type": "stream",
     "text": [
      "Category\n",
      "Movie      5379\n",
      "TV Show    2410\n",
      "Name: count, dtype: int64\n"
     ]
    },
    {
     "data": {
      "image/png": "[encoded data removed]",
      "text/plain": [
       "<Figure size 640x480 with 1 Axes>"
      ]
     },
     "metadata": {},
     "output_type": "display_data"
    }
   ],
   "source": [
    "category_counts = df['Category'].value_counts()\n",
    "print(category_counts)\n",
    "sns.countplot(data=df, x='Category')\n",
    "plt.title('Number of Movies and TV Shows')\n",
    "plt.xlabel('Category')\n",
    "plt.ylabel('Count')\n",
    "plt.show()"
   ]
  },
  {
   "cell_type": "markdown",
   "id": "358460ef",
   "metadata": {
    "papermill": {
     "duration": 0.007601,
     "end_time": "2025-08-03T10:55:50.386156",
     "exception": false,
     "start_time": "2025-08-03T10:55:50.378555",
     "status": "completed"
    },
    "tags": []
   },
   "source": [
    "## Show all the Movies that were released in year 2000.\n",
    "\n"
   ]
  },
  {
   "cell_type": "markdown",
   "id": "b0360f6e",
   "metadata": {},
   "source": [
    "YearWise Movies Count"
   ]
  },
  {
   "cell_type": "code",
   "execution_count": 16,
   "id": "161a9c80",
   "metadata": {},
   "outputs": [
    {
     "name": "stdout",
     "output_type": "stream",
     "text": [
      "2008.0: 1\n",
      "2009.0: 2\n",
      "2010.0: 1\n",
      "2011.0: 13\n",
      "2012.0: 3\n",
      "2013.0: 6\n",
      "2014.0: 19\n",
      "2015.0: 58\n",
      "2016.0: 258\n",
      "2017.0: 864\n",
      "2018.0: 1255\n",
      "2019.0: 1498\n",
      "2020.0: 1313\n",
      "2021.0: 88\n"
     ]
    }
   ],
   "source": [
    "movies_per_year = df[df['Category'] == 'Movie']['Year'].value_counts().sort_index()\n",
    "for year, count in movies_per_year.items():\n",
    "    print(f\"{year}: {count}\")"
   ]
  },
  {
   "cell_type": "code",
   "execution_count": 17,
   "id": "edb1ad8b",
   "metadata": {
    "execution": {
     "iopub.execute_input": "2025-08-03T10:55:50.438247Z",
     "iopub.status.busy": "2025-08-03T10:55:50.437835Z",
     "iopub.status.idle": "2025-08-03T10:55:50.454444Z",
     "shell.execute_reply": "2025-08-03T10:55:50.453458Z"
    },
    "papermill": {
     "duration": 0.028468,
     "end_time": "2025-08-03T10:55:50.456121",
     "exception": false,
     "start_time": "2025-08-03T10:55:50.427653",
     "status": "completed"
    },
    "tags": []
   },
   "outputs": [
    {
     "data": {
      "text/html": [
       "<div>\n",
       "<style scoped>\n",
       "    .dataframe tbody tr th:only-of-type {\n",
       "        vertical-align: middle;\n",
       "    }\n",
       "\n",
       "    .dataframe tbody tr th {\n",
       "        vertical-align: top;\n",
       "    }\n",
       "\n",
       "    .dataframe thead th {\n",
       "        text-align: right;\n",
       "    }\n",
       "</style>\n",
       "<table border=\"1\" class=\"dataframe\">\n",
       "  <thead>\n",
       "    <tr style=\"text-align: right;\">\n",
       "      <th></th>\n",
       "      <th>Show_Id</th>\n",
       "      <th>Title</th>\n",
       "      <th>Director</th>\n",
       "      <th>Release_Date</th>\n",
       "    </tr>\n",
       "  </thead>\n",
       "  <tbody>\n",
       "    <tr>\n",
       "      <th>4</th>\n",
       "      <td>s5</td>\n",
       "      <td>21</td>\n",
       "      <td>Robert Luketic</td>\n",
       "      <td>January 1, 2020</td>\n",
       "    </tr>\n",
       "    <tr>\n",
       "      <th>6</th>\n",
       "      <td>s7</td>\n",
       "      <td>122</td>\n",
       "      <td>Yasir Al Yasiri</td>\n",
       "      <td>June 1, 2020</td>\n",
       "    </tr>\n",
       "    <tr>\n",
       "      <th>14</th>\n",
       "      <td>s15</td>\n",
       "      <td>3022</td>\n",
       "      <td>John Suits</td>\n",
       "      <td>March 19, 2020</td>\n",
       "    </tr>\n",
       "    <tr>\n",
       "      <th>27</th>\n",
       "      <td>s28</td>\n",
       "      <td>#Alive</td>\n",
       "      <td>Cho Il</td>\n",
       "      <td>September 8, 2020</td>\n",
       "    </tr>\n",
       "    <tr>\n",
       "      <th>28</th>\n",
       "      <td>s29</td>\n",
       "      <td>#AnneFrank - Parallel Stories</td>\n",
       "      <td>Sabina Fedeli, Anna Migotto</td>\n",
       "      <td>July 1, 2020</td>\n",
       "    </tr>\n",
       "    <tr>\n",
       "      <th>...</th>\n",
       "      <td>...</td>\n",
       "      <td>...</td>\n",
       "      <td>...</td>\n",
       "      <td>...</td>\n",
       "    </tr>\n",
       "    <tr>\n",
       "      <th>7762</th>\n",
       "      <td>s7761</td>\n",
       "      <td>Zaki Chan</td>\n",
       "      <td>Wael Ihsan</td>\n",
       "      <td>May 19, 2020</td>\n",
       "    </tr>\n",
       "    <tr>\n",
       "      <th>7783</th>\n",
       "      <td>s7782</td>\n",
       "      <td>Zoom</td>\n",
       "      <td>Peter Hewitt</td>\n",
       "      <td>January 11, 2020</td>\n",
       "    </tr>\n",
       "    <tr>\n",
       "      <th>7784</th>\n",
       "      <td>s7783</td>\n",
       "      <td>Zozo</td>\n",
       "      <td>Josef Fares</td>\n",
       "      <td>October 19, 2020</td>\n",
       "    </tr>\n",
       "    <tr>\n",
       "      <th>7786</th>\n",
       "      <td>s7785</td>\n",
       "      <td>Zulu Man in Japan</td>\n",
       "      <td>NaN</td>\n",
       "      <td>September 25, 2020</td>\n",
       "    </tr>\n",
       "    <tr>\n",
       "      <th>7788</th>\n",
       "      <td>s7787</td>\n",
       "      <td>ZZ TOP: THAT LITTLE OL' BAND FROM TEXAS</td>\n",
       "      <td>Sam Dunn</td>\n",
       "      <td>March 1, 2020</td>\n",
       "    </tr>\n",
       "  </tbody>\n",
       "</table>\n",
       "<p>1313 rows × 4 columns</p>\n",
       "</div>"
      ],
      "text/plain": [
       "     Show_Id                                    Title  \\\n",
       "4         s5                                       21   \n",
       "6         s7                                      122   \n",
       "14       s15                                     3022   \n",
       "27       s28                                   #Alive   \n",
       "28       s29            #AnneFrank - Parallel Stories   \n",
       "...      ...                                      ...   \n",
       "7762   s7761                                Zaki Chan   \n",
       "7783   s7782                                     Zoom   \n",
       "7784   s7783                                     Zozo   \n",
       "7786   s7785                        Zulu Man in Japan   \n",
       "7788   s7787  ZZ TOP: THAT LITTLE OL' BAND FROM TEXAS   \n",
       "\n",
       "                         Director        Release_Date  \n",
       "4                  Robert Luketic     January 1, 2020  \n",
       "6                 Yasir Al Yasiri        June 1, 2020  \n",
       "14                     John Suits      March 19, 2020  \n",
       "27                         Cho Il   September 8, 2020  \n",
       "28    Sabina Fedeli, Anna Migotto        July 1, 2020  \n",
       "...                           ...                 ...  \n",
       "7762                   Wael Ihsan        May 19, 2020  \n",
       "7783                 Peter Hewitt    January 11, 2020  \n",
       "7784                  Josef Fares    October 19, 2020  \n",
       "7786                          NaN  September 25, 2020  \n",
       "7788                     Sam Dunn       March 1, 2020  \n",
       "\n",
       "[1313 rows x 4 columns]"
      ]
     },
     "execution_count": 17,
     "metadata": {},
     "output_type": "execute_result"
    }
   ],
   "source": [
    "movies_2020 = df[(df['Category'] == 'Movie') & (df['Year'] == 2020)][['Show_Id', 'Title', 'Director', 'Release_Date']]\n",
    "movies_2020"
   ]
  },
  {
   "cell_type": "markdown",
   "id": "af712513",
   "metadata": {
    "papermill": {
     "duration": 0.008084,
     "end_time": "2025-08-03T10:55:50.473404",
     "exception": false,
     "start_time": "2025-08-03T10:55:50.465320",
     "status": "completed"
    },
    "tags": []
   },
   "source": [
    "##  Show only the Titles of all TV Shows that were released in India only.\n",
    "**Code Explanation**: The DataFrame is filtered for `Category` as 'TV Show' and `Country` as 'India', selecting only the `Title` column.\n",
    "\n"
   ]
  },
  {
   "cell_type": "code",
   "execution_count": 18,
   "id": "1237d9a1",
   "metadata": {},
   "outputs": [
    {
     "data": {
      "text/plain": [
       "86            21 Sarfarosh: Saragarhi 1897\n",
       "132                              7 (Seven)\n",
       "340                           Agent Raghav\n",
       "364                           Akbar Birbal\n",
       "533                    Anjaan: Rural Myths\n",
       "                       ...                \n",
       "6249                  The Creative Indians\n",
       "6400    The Golden Years with Javed Akhtar\n",
       "6469                The House That Made Me\n",
       "7294                            Typewriter\n",
       "7705                       Yeh Meri Family\n",
       "Name: Title, Length: 71, dtype: object"
      ]
     },
     "execution_count": 18,
     "metadata": {},
     "output_type": "execute_result"
    }
   ],
   "source": [
    "TvShows_India = df[(df['Category'] == 'TV Show') & (df['Country'] == 'India')]['Title'] \n",
    "\n",
    "TvShows_India"
   ]
  },
  {
   "cell_type": "markdown",
   "id": "02063f72",
   "metadata": {
    "papermill": {
     "duration": 0.008055,
     "end_time": "2025-08-03T10:55:50.521556",
     "exception": false,
     "start_time": "2025-08-03T10:55:50.513501",
     "status": "completed"
    },
    "tags": []
   },
   "source": [
    "## Top 10 Directors, who gave the highest number of TV Shows & Movies to Netflix?\n",
    "\n",
    "`value_counts()` method on the `Director` column counts the number of titles per director,and `head(10)`. A bar plot is created to visualize the results.\n",
    "\n"
   ]
  },
  {
   "cell_type": "code",
   "execution_count": 19,
   "id": "4f503bed",
   "metadata": {
    "execution": {
     "iopub.execute_input": "2025-08-03T10:55:50.539655Z",
     "iopub.status.busy": "2025-08-03T10:55:50.539268Z",
     "iopub.status.idle": "2025-08-03T10:55:50.826089Z",
     "shell.execute_reply": "2025-08-03T10:55:50.824811Z"
    },
    "papermill": {
     "duration": 0.298137,
     "end_time": "2025-08-03T10:55:50.827934",
     "exception": false,
     "start_time": "2025-08-03T10:55:50.529797",
     "status": "completed"
    },
    "tags": []
   },
   "outputs": [
    {
     "name": "stdout",
     "output_type": "stream",
     "text": [
      "Director\n",
      "Raúl Campos, Jan Suter    18\n",
      "Marcus Raboy              16\n",
      "Jay Karas                 14\n",
      "Cathy Garcia-Molina       13\n",
      "Youssef Chahine           12\n",
      "Martin Scorsese           12\n",
      "Jay Chapman               12\n",
      "Steven Spielberg          10\n",
      "David Dhawan               9\n",
      "Ryan Polito                8\n",
      "Name: count, dtype: int64\n"
     ]
    },
    {
     "data": {
      "image/png": "[encoded data removed]",
      "text/plain": [
       "<Figure size 640x480 with 1 Axes>"
      ]
     },
     "metadata": {},
     "output_type": "display_data"
    }
   ],
   "source": [
    "top_directors = df['Director'].value_counts().head(10)\n",
    "print(top_directors)\n",
    "top_directors.plot(kind='bar')\n",
    "#plt.bar(df['Director'])\n",
    "plt.title('Top 10 Directors by Number of Titles')\n",
    "plt.xlabel('Director')\n",
    "plt.ylabel('Number of Titles')\n",
    "plt.xticks(rotation=45)\n",
    "plt.show()"
   ]
  },
  {
   "cell_type": "markdown",
   "id": "505f0af7",
   "metadata": {
    "papermill": {
     "duration": 0.009158,
     "end_time": "2025-08-03T10:55:50.846812",
     "exception": false,
     "start_time": "2025-08-03T10:55:50.837654",
     "status": "completed"
    },
    "tags": []
   },
   "source": [
    "## All Records, where \"Category is Movie and Type is Comedies\" or \"Country is United Kingdom\"\n"
   ]
  },
  {
   "cell_type": "code",
   "execution_count": 20,
   "id": "af7164e1",
   "metadata": {
    "execution": {
     "iopub.execute_input": "2025-08-03T10:55:50.936042Z",
     "iopub.status.busy": "2025-08-03T10:55:50.935718Z",
     "iopub.status.idle": "2025-08-03T10:55:50.959189Z",
     "shell.execute_reply": "2025-08-03T10:55:50.958048Z"
    },
    "papermill": {
     "duration": 0.104961,
     "end_time": "2025-08-03T10:55:50.960939",
     "exception": false,
     "start_time": "2025-08-03T10:55:50.855978",
     "status": "completed"
    },
    "tags": []
   },
   "outputs": [
    {
     "data": {
      "text/html": [
       "<div>\n",
       "<style scoped>\n",
       "    .dataframe tbody tr th:only-of-type {\n",
       "        vertical-align: middle;\n",
       "    }\n",
       "\n",
       "    .dataframe tbody tr th {\n",
       "        vertical-align: top;\n",
       "    }\n",
       "\n",
       "    .dataframe thead th {\n",
       "        text-align: right;\n",
       "    }\n",
       "</style>\n",
       "<table border=\"1\" class=\"dataframe\">\n",
       "  <thead>\n",
       "    <tr style=\"text-align: right;\">\n",
       "      <th></th>\n",
       "      <th>Show_Id</th>\n",
       "      <th>Category</th>\n",
       "      <th>Title</th>\n",
       "      <th>Director</th>\n",
       "      <th>Cast</th>\n",
       "      <th>Country</th>\n",
       "      <th>Release_Date</th>\n",
       "      <th>Rating</th>\n",
       "      <th>Duration</th>\n",
       "      <th>Type</th>\n",
       "      <th>Description</th>\n",
       "      <th>Year</th>\n",
       "    </tr>\n",
       "  </thead>\n",
       "  <tbody>\n",
       "    <tr>\n",
       "      <th>18</th>\n",
       "      <td>s19</td>\n",
       "      <td>Movie</td>\n",
       "      <td>15-Aug</td>\n",
       "      <td>Swapnaneel Jayakar</td>\n",
       "      <td>Rahul Pethe, Mrunmayee Deshpande, Adinath Koth...</td>\n",
       "      <td>India</td>\n",
       "      <td>March 29, 2019</td>\n",
       "      <td>TV-14</td>\n",
       "      <td>124 min</td>\n",
       "      <td>Comedies, Dramas, Independent Movies</td>\n",
       "      <td>On India's Independence Day, a zany mishap in ...</td>\n",
       "      <td>2019.0</td>\n",
       "    </tr>\n",
       "    <tr>\n",
       "      <th>19</th>\n",
       "      <td>s20</td>\n",
       "      <td>Movie</td>\n",
       "      <td>'89</td>\n",
       "      <td>NaN</td>\n",
       "      <td>Lee Dixon, Ian Wright, Paul Merson</td>\n",
       "      <td>United Kingdom</td>\n",
       "      <td>May 16, 2018</td>\n",
       "      <td>TV-PG</td>\n",
       "      <td>87 min</td>\n",
       "      <td>Sports Movies</td>\n",
       "      <td>Mixing old footage with interviews, this is th...</td>\n",
       "      <td>2018.0</td>\n",
       "    </tr>\n",
       "    <tr>\n",
       "      <th>33</th>\n",
       "      <td>s34</td>\n",
       "      <td>Movie</td>\n",
       "      <td>#realityhigh</td>\n",
       "      <td>Fernando Lebrija</td>\n",
       "      <td>Nesta Cooper, Kate Walsh, John Michael Higgins...</td>\n",
       "      <td>United States</td>\n",
       "      <td>September 8, 2017</td>\n",
       "      <td>TV-14</td>\n",
       "      <td>99 min</td>\n",
       "      <td>Comedies</td>\n",
       "      <td>When nerdy high schooler Dani finally attracts...</td>\n",
       "      <td>2017.0</td>\n",
       "    </tr>\n",
       "    <tr>\n",
       "      <th>34</th>\n",
       "      <td>s35</td>\n",
       "      <td>Movie</td>\n",
       "      <td>#Roxy</td>\n",
       "      <td>Michael Kennedy</td>\n",
       "      <td>Jake Short, Sarah Fisher, Booboo Stewart, Dann...</td>\n",
       "      <td>Canada</td>\n",
       "      <td>April 10, 2019</td>\n",
       "      <td>TV-14</td>\n",
       "      <td>105 min</td>\n",
       "      <td>Comedies, Romantic Movies</td>\n",
       "      <td>A teenage hacker with a huge nose helps a cool...</td>\n",
       "      <td>2019.0</td>\n",
       "    </tr>\n",
       "    <tr>\n",
       "      <th>36</th>\n",
       "      <td>s37</td>\n",
       "      <td>Movie</td>\n",
       "      <td>#Selfie</td>\n",
       "      <td>Cristina Jacob</td>\n",
       "      <td>Flavia Hojda, Crina Semciuc, Olimpia Melinte, ...</td>\n",
       "      <td>Romania</td>\n",
       "      <td>June 1, 2019</td>\n",
       "      <td>TV-MA</td>\n",
       "      <td>125 min</td>\n",
       "      <td>Comedies, Dramas, International Movies</td>\n",
       "      <td>Two days before their final exams, three teen ...</td>\n",
       "      <td>2019.0</td>\n",
       "    </tr>\n",
       "    <tr>\n",
       "      <th>...</th>\n",
       "      <td>...</td>\n",
       "      <td>...</td>\n",
       "      <td>...</td>\n",
       "      <td>...</td>\n",
       "      <td>...</td>\n",
       "      <td>...</td>\n",
       "      <td>...</td>\n",
       "      <td>...</td>\n",
       "      <td>...</td>\n",
       "      <td>...</td>\n",
       "      <td>...</td>\n",
       "      <td>...</td>\n",
       "    </tr>\n",
       "    <tr>\n",
       "      <th>7766</th>\n",
       "      <td>s7765</td>\n",
       "      <td>Movie</td>\n",
       "      <td>Zero</td>\n",
       "      <td>Aanand Rai</td>\n",
       "      <td>Shah Rukh Khan, Anushka Sharma, Katrina Kaif, ...</td>\n",
       "      <td>India</td>\n",
       "      <td>May 21, 2019</td>\n",
       "      <td>TV-14</td>\n",
       "      <td>159 min</td>\n",
       "      <td>Comedies, Dramas, International Movies</td>\n",
       "      <td>Through his relationships with two wildly diff...</td>\n",
       "      <td>2019.0</td>\n",
       "    </tr>\n",
       "    <tr>\n",
       "      <th>7771</th>\n",
       "      <td>s7770</td>\n",
       "      <td>Movie</td>\n",
       "      <td>Zindagi Na Milegi Dobara</td>\n",
       "      <td>Zoya Akhtar</td>\n",
       "      <td>Hrithik Roshan, Abhay Deol, Farhan Akhtar, Kat...</td>\n",
       "      <td>India</td>\n",
       "      <td>December 15, 2019</td>\n",
       "      <td>TV-14</td>\n",
       "      <td>154 min</td>\n",
       "      <td>Comedies, Dramas, International Movies</td>\n",
       "      <td>Three friends on an adventurous road trip/bach...</td>\n",
       "      <td>2019.0</td>\n",
       "    </tr>\n",
       "    <tr>\n",
       "      <th>7774</th>\n",
       "      <td>s7773</td>\n",
       "      <td>Movie</td>\n",
       "      <td>Zipi &amp; Zape y la Isla del Capitan</td>\n",
       "      <td>Oskar Santos</td>\n",
       "      <td>Teo Planell, Toni Gómez, Elena Anaya, Iria Cas...</td>\n",
       "      <td>Spain</td>\n",
       "      <td>July 1, 2017</td>\n",
       "      <td>TV-PG</td>\n",
       "      <td>105 min</td>\n",
       "      <td>Children &amp; Family Movies, Comedies</td>\n",
       "      <td>At Christmas, Zip and Zap take a trip with the...</td>\n",
       "      <td>2017.0</td>\n",
       "    </tr>\n",
       "    <tr>\n",
       "      <th>7780</th>\n",
       "      <td>s7779</td>\n",
       "      <td>Movie</td>\n",
       "      <td>Zombieland</td>\n",
       "      <td>Ruben Fleischer</td>\n",
       "      <td>Jesse Eisenberg, Woody Harrelson, Emma Stone, ...</td>\n",
       "      <td>United States</td>\n",
       "      <td>November 1, 2019</td>\n",
       "      <td>R</td>\n",
       "      <td>88 min</td>\n",
       "      <td>Comedies, Horror Movies</td>\n",
       "      <td>Looking to survive in a world taken over by zo...</td>\n",
       "      <td>2019.0</td>\n",
       "    </tr>\n",
       "    <tr>\n",
       "      <th>7783</th>\n",
       "      <td>s7782</td>\n",
       "      <td>Movie</td>\n",
       "      <td>Zoom</td>\n",
       "      <td>Peter Hewitt</td>\n",
       "      <td>Tim Allen, Courteney Cox, Chevy Chase, Kate Ma...</td>\n",
       "      <td>United States</td>\n",
       "      <td>January 11, 2020</td>\n",
       "      <td>PG</td>\n",
       "      <td>88 min</td>\n",
       "      <td>Children &amp; Family Movies, Comedies</td>\n",
       "      <td>Dragged from civilian life, a former superhero...</td>\n",
       "      <td>2020.0</td>\n",
       "    </tr>\n",
       "  </tbody>\n",
       "</table>\n",
       "<p>1838 rows × 12 columns</p>\n",
       "</div>"
      ],
      "text/plain": [
       "     Show_Id Category                              Title            Director  \\\n",
       "18       s19    Movie                             15-Aug  Swapnaneel Jayakar   \n",
       "19       s20    Movie                                '89                 NaN   \n",
       "33       s34    Movie                       #realityhigh    Fernando Lebrija   \n",
       "34       s35    Movie                              #Roxy     Michael Kennedy   \n",
       "36       s37    Movie                            #Selfie      Cristina Jacob   \n",
       "...      ...      ...                                ...                 ...   \n",
       "7766   s7765    Movie                               Zero          Aanand Rai   \n",
       "7771   s7770    Movie           Zindagi Na Milegi Dobara         Zoya Akhtar   \n",
       "7774   s7773    Movie  Zipi & Zape y la Isla del Capitan        Oskar Santos   \n",
       "7780   s7779    Movie                         Zombieland     Ruben Fleischer   \n",
       "7783   s7782    Movie                               Zoom        Peter Hewitt   \n",
       "\n",
       "                                                   Cast         Country  \\\n",
       "18    Rahul Pethe, Mrunmayee Deshpande, Adinath Koth...           India   \n",
       "19                   Lee Dixon, Ian Wright, Paul Merson  United Kingdom   \n",
       "33    Nesta Cooper, Kate Walsh, John Michael Higgins...   United States   \n",
       "34    Jake Short, Sarah Fisher, Booboo Stewart, Dann...          Canada   \n",
       "36    Flavia Hojda, Crina Semciuc, Olimpia Melinte, ...         Romania   \n",
       "...                                                 ...             ...   \n",
       "7766  Shah Rukh Khan, Anushka Sharma, Katrina Kaif, ...           India   \n",
       "7771  Hrithik Roshan, Abhay Deol, Farhan Akhtar, Kat...           India   \n",
       "7774  Teo Planell, Toni Gómez, Elena Anaya, Iria Cas...           Spain   \n",
       "7780  Jesse Eisenberg, Woody Harrelson, Emma Stone, ...   United States   \n",
       "7783  Tim Allen, Courteney Cox, Chevy Chase, Kate Ma...   United States   \n",
       "\n",
       "           Release_Date Rating Duration  \\\n",
       "18       March 29, 2019  TV-14  124 min   \n",
       "19         May 16, 2018  TV-PG   87 min   \n",
       "33    September 8, 2017  TV-14   99 min   \n",
       "34       April 10, 2019  TV-14  105 min   \n",
       "36         June 1, 2019  TV-MA  125 min   \n",
       "...                 ...    ...      ...   \n",
       "7766       May 21, 2019  TV-14  159 min   \n",
       "7771  December 15, 2019  TV-14  154 min   \n",
       "7774       July 1, 2017  TV-PG  105 min   \n",
       "7780   November 1, 2019      R   88 min   \n",
       "7783   January 11, 2020     PG   88 min   \n",
       "\n",
       "                                        Type  \\\n",
       "18      Comedies, Dramas, Independent Movies   \n",
       "19                             Sports Movies   \n",
       "33                                  Comedies   \n",
       "34                 Comedies, Romantic Movies   \n",
       "36    Comedies, Dramas, International Movies   \n",
       "...                                      ...   \n",
       "7766  Comedies, Dramas, International Movies   \n",
       "7771  Comedies, Dramas, International Movies   \n",
       "7774      Children & Family Movies, Comedies   \n",
       "7780                 Comedies, Horror Movies   \n",
       "7783      Children & Family Movies, Comedies   \n",
       "\n",
       "                                            Description    Year  \n",
       "18    On India's Independence Day, a zany mishap in ...  2019.0  \n",
       "19    Mixing old footage with interviews, this is th...  2018.0  \n",
       "33    When nerdy high schooler Dani finally attracts...  2017.0  \n",
       "34    A teenage hacker with a huge nose helps a cool...  2019.0  \n",
       "36    Two days before their final exams, three teen ...  2019.0  \n",
       "...                                                 ...     ...  \n",
       "7766  Through his relationships with two wildly diff...  2019.0  \n",
       "7771  Three friends on an adventurous road trip/bach...  2019.0  \n",
       "7774  At Christmas, Zip and Zap take a trip with the...  2017.0  \n",
       "7780  Looking to survive in a world taken over by zo...  2019.0  \n",
       "7783  Dragged from civilian life, a former superhero...  2020.0  \n",
       "\n",
       "[1838 rows x 12 columns]"
      ]
     },
     "execution_count": 20,
     "metadata": {},
     "output_type": "execute_result"
    }
   ],
   "source": [
    "comedies_uk = df[((df['Category'] == 'Movie') & (df['Type'].str.contains('Comedies'))) | (df['Country'] == 'United Kingdom')]\n",
    "comedies_uk"
   ]
  },
  {
   "cell_type": "markdown",
   "id": "9dfa62cf",
   "metadata": {
    "papermill": {
     "duration": 0.009974,
     "end_time": "2025-08-03T10:55:50.981577",
     "exception": false,
     "start_time": "2025-08-03T10:55:50.971603",
     "status": "completed"
    },
    "tags": []
   },
   "source": [
    "## Tom Cruse Movies"
   ]
  },
  {
   "cell_type": "code",
   "execution_count": 21,
   "id": "9b533445",
   "metadata": {
    "execution": {
     "iopub.execute_input": "2025-08-03T10:55:51.002767Z",
     "iopub.status.busy": "2025-08-03T10:55:51.002433Z",
     "iopub.status.idle": "2025-08-03T10:55:51.013352Z",
     "shell.execute_reply": "2025-08-03T10:55:51.012264Z"
    },
    "papermill": {
     "duration": 0.023623,
     "end_time": "2025-08-03T10:55:51.015021",
     "exception": false,
     "start_time": "2025-08-03T10:55:50.991398",
     "status": "completed"
    },
    "tags": []
   },
   "outputs": [
    {
     "name": "stdout",
     "output_type": "stream",
     "text": [
      "Number of movies/shows with Tom Cruise: 2\n"
     ]
    }
   ],
   "source": [
    "tom_cruise_count = df['Cast'].str.contains('Tom Cruise', na=False).sum()\n",
    "print(f'Number of movies/shows with Tom Cruise: {tom_cruise_count}')"
   ]
  },
  {
   "cell_type": "markdown",
   "id": "3cd415e8",
   "metadata": {
    "papermill": {
     "duration": 0.010612,
     "end_time": "2025-08-03T10:55:51.035552",
     "exception": false,
     "start_time": "2025-08-03T10:55:51.024940",
     "status": "completed"
    },
    "tags": []
   },
   "source": [
    "## What are the different Ratings defined by Netflix?"
   ]
  },
  {
   "cell_type": "code",
   "execution_count": 22,
   "id": "c3cb31d0",
   "metadata": {
    "execution": {
     "iopub.execute_input": "2025-08-03T10:55:51.057323Z",
     "iopub.status.busy": "2025-08-03T10:55:51.056841Z",
     "iopub.status.idle": "2025-08-03T10:55:51.063885Z",
     "shell.execute_reply": "2025-08-03T10:55:51.062656Z"
    },
    "papermill": {
     "duration": 0.019841,
     "end_time": "2025-08-03T10:55:51.065598",
     "exception": false,
     "start_time": "2025-08-03T10:55:51.045757",
     "status": "completed"
    },
    "tags": []
   },
   "outputs": [
    {
     "name": "stdout",
     "output_type": "stream",
     "text": [
      "Different Ratings: ['TV-MA' 'R' 'PG-13' 'TV-14' 'TV-PG' 'NR' 'TV-G' 'TV-Y' nan 'TV-Y7' 'PG'\n",
      " 'G' 'NC-17' 'TV-Y7-FV' 'UR']\n"
     ]
    }
   ],
   "source": [
    "ratings = df['Rating'].unique()\n",
    "print('Different Ratings:', ratings)"
   ]
  },
  {
   "cell_type": "markdown",
   "id": "79ccd362",
   "metadata": {
    "papermill": {
     "duration": 0.009316,
     "end_time": "2025-08-03T10:55:51.084823",
     "exception": false,
     "start_time": "2025-08-03T10:55:51.075507",
     "status": "completed"
    },
    "tags": []
   },
   "source": [
    "## How many Movies got the 'TV-14' rating, in Canada?\n",
    "\n"
   ]
  },
  {
   "cell_type": "code",
   "execution_count": 23,
   "id": "3be25348",
   "metadata": {
    "execution": {
     "iopub.execute_input": "2025-08-03T10:55:51.105648Z",
     "iopub.status.busy": "2025-08-03T10:55:51.105317Z",
     "iopub.status.idle": "2025-08-03T10:55:51.118352Z",
     "shell.execute_reply": "2025-08-03T10:55:51.117185Z"
    },
    "papermill": {
     "duration": 0.025589,
     "end_time": "2025-08-03T10:55:51.120144",
     "exception": false,
     "start_time": "2025-08-03T10:55:51.094555",
     "status": "completed"
    },
    "tags": []
   },
   "outputs": [
    {
     "name": "stdout",
     "output_type": "stream",
     "text": [
      "Movies with TV-14 rating in Canada: 26\n"
     ]
    }
   ],
   "source": [
    "tv14_canada = df[(df['Category'] == 'Movie') & (df['Rating'] == 'TV-14') & (df['Country'].str.contains('Canada', na=False))].shape[0]\n",
    "print(f'Movies with TV-14 rating in Canada: {tv14_canada}')"
   ]
  },
  {
   "cell_type": "markdown",
   "id": "a62bde4d",
   "metadata": {
    "papermill": {
     "duration": 0.009853,
     "end_time": "2025-08-03T10:55:51.140007",
     "exception": false,
     "start_time": "2025-08-03T10:55:51.130154",
     "status": "completed"
    },
    "tags": []
   },
   "source": [
    "## How many TV Shows got the 'R' rating, after year 2018?\n",
    "\n"
   ]
  },
  {
   "cell_type": "code",
   "execution_count": 24,
   "id": "8bea96a7",
   "metadata": {
    "execution": {
     "iopub.execute_input": "2025-08-03T10:55:51.162487Z",
     "iopub.status.busy": "2025-08-03T10:55:51.162145Z",
     "iopub.status.idle": "2025-08-03T10:55:51.171987Z",
     "shell.execute_reply": "2025-08-03T10:55:51.170930Z"
    },
    "papermill": {
     "duration": 0.023062,
     "end_time": "2025-08-03T10:55:51.173628",
     "exception": false,
     "start_time": "2025-08-03T10:55:51.150566",
     "status": "completed"
    },
    "tags": []
   },
   "outputs": [
    {
     "name": "stdout",
     "output_type": "stream",
     "text": [
      "TV Shows with R rating after 2018: 1\n"
     ]
    }
   ],
   "source": [
    "r_tv_after_2018 = df[(df['Category'] == 'TV Show') & (df['Rating'] == 'R') & (df['Year'] > 2018)].shape[0]\n",
    "print(f'TV Shows with R rating after 2018: {r_tv_after_2018}')"
   ]
  },
  {
   "cell_type": "markdown",
   "id": "5301f498",
   "metadata": {
    "papermill": {
     "duration": 0.010748,
     "end_time": "2025-08-03T10:55:51.194563",
     "exception": false,
     "start_time": "2025-08-03T10:55:51.183815",
     "status": "completed"
    },
    "tags": []
   },
   "source": [
    "##  What is the maximum duration of a Movie/Show on Netflix?\n",
    "\n"
   ]
  },
  {
   "cell_type": "code",
   "execution_count": 25,
   "id": "4291e778",
   "metadata": {
    "execution": {
     "iopub.execute_input": "2025-08-03T10:55:51.216526Z",
     "iopub.status.busy": "2025-08-03T10:55:51.216165Z",
     "iopub.status.idle": "2025-08-03T10:55:51.249450Z",
     "shell.execute_reply": "2025-08-03T10:55:51.248324Z"
    },
    "papermill": {
     "duration": 0.046016,
     "end_time": "2025-08-03T10:55:51.251104",
     "exception": false,
     "start_time": "2025-08-03T10:55:51.205088",
     "status": "completed"
    },
    "tags": []
   },
   "outputs": [
    {
     "name": "stdout",
     "output_type": "stream",
     "text": [
      "Maximum movie duration: 312 minutes\n",
      "Maximum TV show seasons: 16 seasons\n"
     ]
    }
   ],
   "source": [
    "df[['Minutes', 'Unit']] = df['Duration'].str.split(' ', expand=True)\n",
    "df['Minutes'] = pd.to_numeric(df['Minutes'], errors='coerce')\n",
    "max_movie_duration = df[df['Unit'] == 'min']['Minutes'].max()\n",
    "max_tv_seasons = df[df['Unit'].isin(['Season', 'Seasons'])]['Minutes'].max()\n",
    "print(f'Maximum movie duration: {max_movie_duration} minutes')\n",
    "print(f'Maximum TV show seasons: {max_tv_seasons} seasons')"
   ]
  },
  {
   "cell_type": "markdown",
   "id": "ef36d305",
   "metadata": {
    "papermill": {
     "duration": 0.010247,
     "end_time": "2025-08-03T10:55:51.273408",
     "exception": false,
     "start_time": "2025-08-03T10:55:51.263161",
     "status": "completed"
    },
    "tags": []
   },
   "source": [
    "##  Which individual country has the Highest No. of TV Shows?\n",
    "\n"
   ]
  },
  {
   "cell_type": "code",
   "execution_count": 26,
   "id": "c980cda6",
   "metadata": {
    "execution": {
     "iopub.execute_input": "2025-08-03T10:55:51.296274Z",
     "iopub.status.busy": "2025-08-03T10:55:51.295513Z",
     "iopub.status.idle": "2025-08-03T10:55:51.305156Z",
     "shell.execute_reply": "2025-08-03T10:55:51.304014Z"
    },
    "papermill": {
     "duration": 0.023042,
     "end_time": "2025-08-03T10:55:51.306824",
     "exception": false,
     "start_time": "2025-08-03T10:55:51.283782",
     "status": "completed"
    },
    "tags": []
   },
   "outputs": [
    {
     "name": "stdout",
     "output_type": "stream",
     "text": [
      "Country with highest number of TV Shows: United States (705 shows)\n"
     ]
    }
   ],
   "source": [
    "tv_shows_by_country = df[df['Category'] == 'TV Show']['Country'].value_counts()\n",
    "top_country = tv_shows_by_country.idxmax()\n",
    "top_count = tv_shows_by_country.max()\n",
    "print(f'Country with highest number of TV Shows: {top_country} ({top_count} shows)')"
   ]
  },
  {
   "cell_type": "markdown",
   "id": "ae7a089c",
   "metadata": {
    "papermill": {
     "duration": 0.009921,
     "end_time": "2025-08-03T10:55:51.327482",
     "exception": false,
     "start_time": "2025-08-03T10:55:51.317561",
     "status": "completed"
    },
    "tags": []
   },
   "source": [
    "## How can we sort the dataset by Year?\n",
    "\n"
   ]
  },
  {
   "cell_type": "code",
   "execution_count": 27,
   "id": "6b07913c",
   "metadata": {
    "execution": {
     "iopub.execute_input": "2025-08-03T10:55:51.348840Z",
     "iopub.status.busy": "2025-08-03T10:55:51.348497Z",
     "iopub.status.idle": "2025-08-03T10:55:51.368979Z",
     "shell.execute_reply": "2025-08-03T10:55:51.368081Z"
    },
    "papermill": {
     "duration": 0.033426,
     "end_time": "2025-08-03T10:55:51.370760",
     "exception": false,
     "start_time": "2025-08-03T10:55:51.337334",
     "status": "completed"
    },
    "tags": []
   },
   "outputs": [
    {
     "data": {
      "text/html": [
       "<div>\n",
       "<style scoped>\n",
       "    .dataframe tbody tr th:only-of-type {\n",
       "        vertical-align: middle;\n",
       "    }\n",
       "\n",
       "    .dataframe tbody tr th {\n",
       "        vertical-align: top;\n",
       "    }\n",
       "\n",
       "    .dataframe thead th {\n",
       "        text-align: right;\n",
       "    }\n",
       "</style>\n",
       "<table border=\"1\" class=\"dataframe\">\n",
       "  <thead>\n",
       "    <tr style=\"text-align: right;\">\n",
       "      <th></th>\n",
       "      <th>Show_Id</th>\n",
       "      <th>Category</th>\n",
       "      <th>Title</th>\n",
       "      <th>Director</th>\n",
       "      <th>Cast</th>\n",
       "      <th>Country</th>\n",
       "      <th>Release_Date</th>\n",
       "      <th>Rating</th>\n",
       "      <th>Duration</th>\n",
       "      <th>Type</th>\n",
       "      <th>Description</th>\n",
       "      <th>Year</th>\n",
       "      <th>Minutes</th>\n",
       "      <th>Unit</th>\n",
       "    </tr>\n",
       "  </thead>\n",
       "  <tbody>\n",
       "    <tr>\n",
       "      <th>1765</th>\n",
       "      <td>s1766</td>\n",
       "      <td>TV Show</td>\n",
       "      <td>Dinner for Five</td>\n",
       "      <td>NaN</td>\n",
       "      <td>NaN</td>\n",
       "      <td>United States</td>\n",
       "      <td>February 4, 2008</td>\n",
       "      <td>TV-MA</td>\n",
       "      <td>1 Season</td>\n",
       "      <td>Stand-Up Comedy &amp; Talk Shows</td>\n",
       "      <td>In each episode, four celebrities join host Jo...</td>\n",
       "      <td>2008.0</td>\n",
       "      <td>1</td>\n",
       "      <td>Season</td>\n",
       "    </tr>\n",
       "    <tr>\n",
       "      <th>7115</th>\n",
       "      <td>s7114</td>\n",
       "      <td>Movie</td>\n",
       "      <td>To and From New York</td>\n",
       "      <td>Sorin Dan Mihalcescu</td>\n",
       "      <td>Barbara King, Shaana Diya, John Krisiukenas, Y...</td>\n",
       "      <td>United States</td>\n",
       "      <td>January 1, 2008</td>\n",
       "      <td>TV-MA</td>\n",
       "      <td>81 min</td>\n",
       "      <td>Dramas, Independent Movies, Thrillers</td>\n",
       "      <td>While covering a story in New York City, a Sea...</td>\n",
       "      <td>2008.0</td>\n",
       "      <td>81</td>\n",
       "      <td>min</td>\n",
       "    </tr>\n",
       "    <tr>\n",
       "      <th>3248</th>\n",
       "      <td>s3249</td>\n",
       "      <td>Movie</td>\n",
       "      <td>Just Another Love Story</td>\n",
       "      <td>Ole Bornedal</td>\n",
       "      <td>Anders W. Berthelsen, Rebecka Hemse, Nikolaj L...</td>\n",
       "      <td>Denmark</td>\n",
       "      <td>May 5, 2009</td>\n",
       "      <td>TV-MA</td>\n",
       "      <td>104 min</td>\n",
       "      <td>Dramas, International Movies</td>\n",
       "      <td>When he causes a car accident that leaves a yo...</td>\n",
       "      <td>2009.0</td>\n",
       "      <td>104</td>\n",
       "      <td>min</td>\n",
       "    </tr>\n",
       "    <tr>\n",
       "      <th>5766</th>\n",
       "      <td>s5766</td>\n",
       "      <td>Movie</td>\n",
       "      <td>Splatter</td>\n",
       "      <td>Joe Dante</td>\n",
       "      <td>Corey Feldman, Tony Todd, Tara Leigh, Erin Way...</td>\n",
       "      <td>United States</td>\n",
       "      <td>November 18, 2009</td>\n",
       "      <td>TV-MA</td>\n",
       "      <td>29 min</td>\n",
       "      <td>Horror Movies</td>\n",
       "      <td>After committing suicide, a washed-up rocker r...</td>\n",
       "      <td>2009.0</td>\n",
       "      <td>29</td>\n",
       "      <td>min</td>\n",
       "    </tr>\n",
       "    <tr>\n",
       "      <th>3840</th>\n",
       "      <td>s3841</td>\n",
       "      <td>Movie</td>\n",
       "      <td>Mad Ron's Prevues from Hell</td>\n",
       "      <td>Jim Monaco</td>\n",
       "      <td>Nick Pawlow, Jordu Schell, Jay Kushwara, Micha...</td>\n",
       "      <td>United States</td>\n",
       "      <td>November 1, 2010</td>\n",
       "      <td>NR</td>\n",
       "      <td>84 min</td>\n",
       "      <td>Cult Movies, Horror Movies</td>\n",
       "      <td>This collection cherry-picks trailers, forgott...</td>\n",
       "      <td>2010.0</td>\n",
       "      <td>84</td>\n",
       "      <td>min</td>\n",
       "    </tr>\n",
       "    <tr>\n",
       "      <th>...</th>\n",
       "      <td>...</td>\n",
       "      <td>...</td>\n",
       "      <td>...</td>\n",
       "      <td>...</td>\n",
       "      <td>...</td>\n",
       "      <td>...</td>\n",
       "      <td>...</td>\n",
       "      <td>...</td>\n",
       "      <td>...</td>\n",
       "      <td>...</td>\n",
       "      <td>...</td>\n",
       "      <td>...</td>\n",
       "      <td>...</td>\n",
       "      <td>...</td>\n",
       "    </tr>\n",
       "    <tr>\n",
       "      <th>6952</th>\n",
       "      <td>s6951</td>\n",
       "      <td>TV Show</td>\n",
       "      <td>The Tudors</td>\n",
       "      <td>NaN</td>\n",
       "      <td>Jonathan Rhys Meyers, Henry Cavill, James Frai...</td>\n",
       "      <td>Ireland, Canada, United States, United Kingdom</td>\n",
       "      <td>January 8, 2018</td>\n",
       "      <td>TV-MA</td>\n",
       "      <td>4 Seasons</td>\n",
       "      <td>TV Dramas</td>\n",
       "      <td>All the splendor and scandal of England's 16th...</td>\n",
       "      <td>NaN</td>\n",
       "      <td>4</td>\n",
       "      <td>Seasons</td>\n",
       "    </tr>\n",
       "    <tr>\n",
       "      <th>6998</th>\n",
       "      <td>s6997</td>\n",
       "      <td>TV Show</td>\n",
       "      <td>The West Wing</td>\n",
       "      <td>NaN</td>\n",
       "      <td>Martin Sheen, Rob Lowe, Allison Janney, John S...</td>\n",
       "      <td>United States</td>\n",
       "      <td>December 25, 2015</td>\n",
       "      <td>TV-14</td>\n",
       "      <td>7 Seasons</td>\n",
       "      <td>TV Dramas</td>\n",
       "      <td>This powerful political epic chronicles the tr...</td>\n",
       "      <td>NaN</td>\n",
       "      <td>7</td>\n",
       "      <td>Seasons</td>\n",
       "    </tr>\n",
       "    <tr>\n",
       "      <th>7448</th>\n",
       "      <td>s7447</td>\n",
       "      <td>TV Show</td>\n",
       "      <td>Vroomiz</td>\n",
       "      <td>NaN</td>\n",
       "      <td>Joon-seok Song, Jeong-hwa Yang, Sang-hyun Um, ...</td>\n",
       "      <td>South Korea</td>\n",
       "      <td>August 1, 2017</td>\n",
       "      <td>TV-Y</td>\n",
       "      <td>3 Seasons</td>\n",
       "      <td>Kids' TV, Korean TV Shows</td>\n",
       "      <td>For these half-car, half-animal friends, each ...</td>\n",
       "      <td>NaN</td>\n",
       "      <td>3</td>\n",
       "      <td>Seasons</td>\n",
       "    </tr>\n",
       "    <tr>\n",
       "      <th>7524</th>\n",
       "      <td>s7523</td>\n",
       "      <td>TV Show</td>\n",
       "      <td>Weird Wonders of the World</td>\n",
       "      <td>NaN</td>\n",
       "      <td>Chris Packham</td>\n",
       "      <td>United Kingdom</td>\n",
       "      <td>March 31, 2017</td>\n",
       "      <td>TV-PG</td>\n",
       "      <td>2 Seasons</td>\n",
       "      <td>British TV Shows, Docuseries, Science &amp; Nature TV</td>\n",
       "      <td>From animal oddities and bizarre science to me...</td>\n",
       "      <td>NaN</td>\n",
       "      <td>2</td>\n",
       "      <td>Seasons</td>\n",
       "    </tr>\n",
       "    <tr>\n",
       "      <th>7655</th>\n",
       "      <td>s7654</td>\n",
       "      <td>TV Show</td>\n",
       "      <td>Women Behind Bars</td>\n",
       "      <td>NaN</td>\n",
       "      <td>NaN</td>\n",
       "      <td>United States</td>\n",
       "      <td>November 1, 2016</td>\n",
       "      <td>TV-14</td>\n",
       "      <td>3 Seasons</td>\n",
       "      <td>Crime TV Shows, Docuseries</td>\n",
       "      <td>This reality series recounts true stories of w...</td>\n",
       "      <td>NaN</td>\n",
       "      <td>3</td>\n",
       "      <td>Seasons</td>\n",
       "    </tr>\n",
       "  </tbody>\n",
       "</table>\n",
       "<p>7789 rows × 14 columns</p>\n",
       "</div>"
      ],
      "text/plain": [
       "     Show_Id Category                        Title              Director  \\\n",
       "1765   s1766  TV Show              Dinner for Five                   NaN   \n",
       "7115   s7114    Movie         To and From New York  Sorin Dan Mihalcescu   \n",
       "3248   s3249    Movie      Just Another Love Story          Ole Bornedal   \n",
       "5766   s5766    Movie                     Splatter             Joe Dante   \n",
       "3840   s3841    Movie  Mad Ron's Prevues from Hell            Jim Monaco   \n",
       "...      ...      ...                          ...                   ...   \n",
       "6952   s6951  TV Show                   The Tudors                   NaN   \n",
       "6998   s6997  TV Show                The West Wing                   NaN   \n",
       "7448   s7447  TV Show                      Vroomiz                   NaN   \n",
       "7524   s7523  TV Show   Weird Wonders of the World                   NaN   \n",
       "7655   s7654  TV Show            Women Behind Bars                   NaN   \n",
       "\n",
       "                                                   Cast  \\\n",
       "1765                                                NaN   \n",
       "7115  Barbara King, Shaana Diya, John Krisiukenas, Y...   \n",
       "3248  Anders W. Berthelsen, Rebecka Hemse, Nikolaj L...   \n",
       "5766  Corey Feldman, Tony Todd, Tara Leigh, Erin Way...   \n",
       "3840  Nick Pawlow, Jordu Schell, Jay Kushwara, Micha...   \n",
       "...                                                 ...   \n",
       "6952  Jonathan Rhys Meyers, Henry Cavill, James Frai...   \n",
       "6998  Martin Sheen, Rob Lowe, Allison Janney, John S...   \n",
       "7448  Joon-seok Song, Jeong-hwa Yang, Sang-hyun Um, ...   \n",
       "7524                                      Chris Packham   \n",
       "7655                                                NaN   \n",
       "\n",
       "                                             Country        Release_Date  \\\n",
       "1765                                   United States    February 4, 2008   \n",
       "7115                                   United States     January 1, 2008   \n",
       "3248                                         Denmark         May 5, 2009   \n",
       "5766                                   United States   November 18, 2009   \n",
       "3840                                   United States    November 1, 2010   \n",
       "...                                              ...                 ...   \n",
       "6952  Ireland, Canada, United States, United Kingdom     January 8, 2018   \n",
       "6998                                   United States   December 25, 2015   \n",
       "7448                                     South Korea      August 1, 2017   \n",
       "7524                                  United Kingdom      March 31, 2017   \n",
       "7655                                   United States    November 1, 2016   \n",
       "\n",
       "     Rating   Duration                                               Type  \\\n",
       "1765  TV-MA   1 Season                       Stand-Up Comedy & Talk Shows   \n",
       "7115  TV-MA     81 min              Dramas, Independent Movies, Thrillers   \n",
       "3248  TV-MA    104 min                       Dramas, International Movies   \n",
       "5766  TV-MA     29 min                                      Horror Movies   \n",
       "3840     NR     84 min                         Cult Movies, Horror Movies   \n",
       "...     ...        ...                                                ...   \n",
       "6952  TV-MA  4 Seasons                                          TV Dramas   \n",
       "6998  TV-14  7 Seasons                                          TV Dramas   \n",
       "7448   TV-Y  3 Seasons                          Kids' TV, Korean TV Shows   \n",
       "7524  TV-PG  2 Seasons  British TV Shows, Docuseries, Science & Nature TV   \n",
       "7655  TV-14  3 Seasons                         Crime TV Shows, Docuseries   \n",
       "\n",
       "                                            Description    Year  Minutes  \\\n",
       "1765  In each episode, four celebrities join host Jo...  2008.0        1   \n",
       "7115  While covering a story in New York City, a Sea...  2008.0       81   \n",
       "3248  When he causes a car accident that leaves a yo...  2009.0      104   \n",
       "5766  After committing suicide, a washed-up rocker r...  2009.0       29   \n",
       "3840  This collection cherry-picks trailers, forgott...  2010.0       84   \n",
       "...                                                 ...     ...      ...   \n",
       "6952  All the splendor and scandal of England's 16th...     NaN        4   \n",
       "6998  This powerful political epic chronicles the tr...     NaN        7   \n",
       "7448  For these half-car, half-animal friends, each ...     NaN        3   \n",
       "7524  From animal oddities and bizarre science to me...     NaN        2   \n",
       "7655  This reality series recounts true stories of w...     NaN        3   \n",
       "\n",
       "         Unit  \n",
       "1765   Season  \n",
       "7115      min  \n",
       "3248      min  \n",
       "5766      min  \n",
       "3840      min  \n",
       "...       ...  \n",
       "6952  Seasons  \n",
       "6998  Seasons  \n",
       "7448  Seasons  \n",
       "7524  Seasons  \n",
       "7655  Seasons  \n",
       "\n",
       "[7789 rows x 14 columns]"
      ]
     },
     "execution_count": 27,
     "metadata": {},
     "output_type": "execute_result"
    }
   ],
   "source": [
    "sorted_by_year = df.sort_values('Year')\n",
    "sorted_by_year"
   ]
  },
  {
   "cell_type": "markdown",
   "id": "86671f70",
   "metadata": {
    "papermill": {
     "duration": 0.011288,
     "end_time": "2025-08-03T10:55:51.393799",
     "exception": false,
     "start_time": "2025-08-03T10:55:51.382511",
     "status": "completed"
    },
    "tags": []
   },
   "source": [
    "## Find all the instances where: Category is 'Movie' and Type is 'Dramas' or Category is 'TV Show' & Type is 'Kids' TV'.\n",
    "\n"
   ]
  },
  {
   "cell_type": "code",
   "execution_count": null,
   "id": "9dd33471",
   "metadata": {},
   "outputs": [],
   "source": []
  },
  {
   "cell_type": "code",
   "execution_count": null,
   "id": "eff2ea5d",
   "metadata": {
    "execution": {
     "iopub.execute_input": "2025-08-03T10:55:51.416568Z",
     "iopub.status.busy": "2025-08-03T10:55:51.416278Z",
     "iopub.status.idle": "2025-08-03T10:55:51.440957Z",
     "shell.execute_reply": "2025-08-03T10:55:51.440149Z"
    },
    "papermill": {
     "duration": 0.038672,
     "end_time": "2025-08-03T10:55:51.442898",
     "exception": false,
     "start_time": "2025-08-03T10:55:51.404226",
     "status": "completed"
    },
    "tags": []
   },
   "outputs": [
    {
     "data": {
      "text/html": [
       "<div>\n",
       "<style scoped>\n",
       "    .dataframe tbody tr th:only-of-type {\n",
       "        vertical-align: middle;\n",
       "    }\n",
       "\n",
       "    .dataframe tbody tr th {\n",
       "        vertical-align: top;\n",
       "    }\n",
       "\n",
       "    .dataframe thead th {\n",
       "        text-align: right;\n",
       "    }\n",
       "</style>\n",
       "<table border=\"1\" class=\"dataframe\">\n",
       "  <thead>\n",
       "    <tr style=\"text-align: right;\">\n",
       "      <th></th>\n",
       "      <th>Show_Id</th>\n",
       "      <th>Category</th>\n",
       "      <th>Title</th>\n",
       "      <th>Director</th>\n",
       "      <th>Cast</th>\n",
       "      <th>Country</th>\n",
       "      <th>Release_Date</th>\n",
       "      <th>Rating</th>\n",
       "      <th>Duration</th>\n",
       "      <th>Type</th>\n",
       "      <th>Description</th>\n",
       "      <th>Year</th>\n",
       "      <th>Minutes</th>\n",
       "      <th>Unit</th>\n",
       "    </tr>\n",
       "  </thead>\n",
       "  <tbody>\n",
       "    <tr>\n",
       "      <th>4</th>\n",
       "      <td>s5</td>\n",
       "      <td>Movie</td>\n",
       "      <td>21</td>\n",
       "      <td>Robert Luketic</td>\n",
       "      <td>Jim Sturgess, Kevin Spacey, Kate Bosworth, Aar...</td>\n",
       "      <td>United States</td>\n",
       "      <td>January 1, 2020</td>\n",
       "      <td>PG-13</td>\n",
       "      <td>123 min</td>\n",
       "      <td>Dramas</td>\n",
       "      <td>A brilliant group of students become card-coun...</td>\n",
       "      <td>2020.0</td>\n",
       "      <td>123</td>\n",
       "      <td>min</td>\n",
       "    </tr>\n",
       "    <tr>\n",
       "      <th>7</th>\n",
       "      <td>s8</td>\n",
       "      <td>Movie</td>\n",
       "      <td>187</td>\n",
       "      <td>Kevin Reynolds</td>\n",
       "      <td>Samuel L. Jackson, John Heard, Kelly Rowan, Cl...</td>\n",
       "      <td>United States</td>\n",
       "      <td>November 1, 2019</td>\n",
       "      <td>R</td>\n",
       "      <td>119 min</td>\n",
       "      <td>Dramas</td>\n",
       "      <td>After one of his high school students attacks ...</td>\n",
       "      <td>2019.0</td>\n",
       "      <td>119</td>\n",
       "      <td>min</td>\n",
       "    </tr>\n",
       "    <tr>\n",
       "      <th>108</th>\n",
       "      <td>s109</td>\n",
       "      <td>TV Show</td>\n",
       "      <td>3Below: Tales of Arcadia</td>\n",
       "      <td>NaN</td>\n",
       "      <td>Tatiana Maslany, Diego Luna, Nick Offerman, Ni...</td>\n",
       "      <td>United States</td>\n",
       "      <td>July 12, 2019</td>\n",
       "      <td>TV-Y7</td>\n",
       "      <td>2 Seasons</td>\n",
       "      <td>Kids' TV, TV Action &amp; Adventure, TV Sci-Fi &amp; F...</td>\n",
       "      <td>After crash-landing on Earth, two royal teen a...</td>\n",
       "      <td>2019.0</td>\n",
       "      <td>2</td>\n",
       "      <td>Seasons</td>\n",
       "    </tr>\n",
       "    <tr>\n",
       "      <th>111</th>\n",
       "      <td>s112</td>\n",
       "      <td>TV Show</td>\n",
       "      <td>44 Cats</td>\n",
       "      <td>NaN</td>\n",
       "      <td>Sarah Natochenny, Suzy Myers, Simona Berman, E...</td>\n",
       "      <td>Italy</td>\n",
       "      <td>October 1, 2020</td>\n",
       "      <td>TV-Y7</td>\n",
       "      <td>2 Seasons</td>\n",
       "      <td>Kids' TV</td>\n",
       "      <td>Paw-esome tales abound when singing furry frie...</td>\n",
       "      <td>2020.0</td>\n",
       "      <td>2</td>\n",
       "      <td>Seasons</td>\n",
       "    </tr>\n",
       "    <tr>\n",
       "      <th>170</th>\n",
       "      <td>s171</td>\n",
       "      <td>Movie</td>\n",
       "      <td>A Family Man</td>\n",
       "      <td>Mark Williams</td>\n",
       "      <td>Gerard Butler, Gretchen Mol, Alison Brie, Will...</td>\n",
       "      <td>Canada, United States</td>\n",
       "      <td>December 15, 2019</td>\n",
       "      <td>R</td>\n",
       "      <td>110 min</td>\n",
       "      <td>Dramas</td>\n",
       "      <td>A ruthless corporate headhunter battles his ri...</td>\n",
       "      <td>2019.0</td>\n",
       "      <td>110</td>\n",
       "      <td>min</td>\n",
       "    </tr>\n",
       "    <tr>\n",
       "      <th>...</th>\n",
       "      <td>...</td>\n",
       "      <td>...</td>\n",
       "      <td>...</td>\n",
       "      <td>...</td>\n",
       "      <td>...</td>\n",
       "      <td>...</td>\n",
       "      <td>...</td>\n",
       "      <td>...</td>\n",
       "      <td>...</td>\n",
       "      <td>...</td>\n",
       "      <td>...</td>\n",
       "      <td>...</td>\n",
       "      <td>...</td>\n",
       "      <td>...</td>\n",
       "    </tr>\n",
       "    <tr>\n",
       "      <th>7758</th>\n",
       "      <td>s7757</td>\n",
       "      <td>TV Show</td>\n",
       "      <td>Z4</td>\n",
       "      <td>NaN</td>\n",
       "      <td>Apollo Costa, Gabriel Santana, Matheus Lustosa...</td>\n",
       "      <td>Brazil</td>\n",
       "      <td>February 22, 2019</td>\n",
       "      <td>TV-PG</td>\n",
       "      <td>2 Seasons</td>\n",
       "      <td>Kids' TV</td>\n",
       "      <td>Fading music biz veteran Zé realizes he has ju...</td>\n",
       "      <td>2019.0</td>\n",
       "      <td>2</td>\n",
       "      <td>Seasons</td>\n",
       "    </tr>\n",
       "    <tr>\n",
       "      <th>7761</th>\n",
       "      <td>s7760</td>\n",
       "      <td>TV Show</td>\n",
       "      <td>Zak Storm</td>\n",
       "      <td>NaN</td>\n",
       "      <td>Michael Johnston, Jessica Gee-George, Christin...</td>\n",
       "      <td>United States, France, South Korea, Indonesia</td>\n",
       "      <td>September 13, 2018</td>\n",
       "      <td>TV-Y7</td>\n",
       "      <td>3 Seasons</td>\n",
       "      <td>Kids' TV</td>\n",
       "      <td>Teen surfer Zak Storm is mysteriously transpor...</td>\n",
       "      <td>2018.0</td>\n",
       "      <td>3</td>\n",
       "      <td>Seasons</td>\n",
       "    </tr>\n",
       "    <tr>\n",
       "      <th>7768</th>\n",
       "      <td>s7767</td>\n",
       "      <td>TV Show</td>\n",
       "      <td>Zig &amp; Sharko</td>\n",
       "      <td>NaN</td>\n",
       "      <td>NaN</td>\n",
       "      <td>France</td>\n",
       "      <td>December 1, 2017</td>\n",
       "      <td>TV-Y7</td>\n",
       "      <td>1 Season</td>\n",
       "      <td>Kids' TV, TV Comedies</td>\n",
       "      <td>Zig, an island-bound hyena, will do anything t...</td>\n",
       "      <td>2017.0</td>\n",
       "      <td>1</td>\n",
       "      <td>Season</td>\n",
       "    </tr>\n",
       "    <tr>\n",
       "      <th>7777</th>\n",
       "      <td>s7776</td>\n",
       "      <td>TV Show</td>\n",
       "      <td>Zoids Wild</td>\n",
       "      <td>NaN</td>\n",
       "      <td>Kensho Ono, Takahiro Sakurai, Mikako Komatsu, ...</td>\n",
       "      <td>Japan</td>\n",
       "      <td>August 14, 2020</td>\n",
       "      <td>TV-Y7</td>\n",
       "      <td>1 Season</td>\n",
       "      <td>Anime Series, Kids' TV</td>\n",
       "      <td>A quest for freedom and legendary treasure beg...</td>\n",
       "      <td>2020.0</td>\n",
       "      <td>1</td>\n",
       "      <td>Season</td>\n",
       "    </tr>\n",
       "    <tr>\n",
       "      <th>7779</th>\n",
       "      <td>s7778</td>\n",
       "      <td>TV Show</td>\n",
       "      <td>Zombie Dumb</td>\n",
       "      <td>NaN</td>\n",
       "      <td>NaN</td>\n",
       "      <td>NaN</td>\n",
       "      <td>July 1, 2019</td>\n",
       "      <td>TV-Y7</td>\n",
       "      <td>2 Seasons</td>\n",
       "      <td>Kids' TV, Korean TV Shows, TV Comedies</td>\n",
       "      <td>While living alone in a spooky town, a young g...</td>\n",
       "      <td>2019.0</td>\n",
       "      <td>2</td>\n",
       "      <td>Seasons</td>\n",
       "    </tr>\n",
       "  </tbody>\n",
       "</table>\n",
       "<p>531 rows × 14 columns</p>\n",
       "</div>"
      ],
      "text/plain": [
       "     Show_Id Category                     Title        Director  \\\n",
       "4         s5    Movie                        21  Robert Luketic   \n",
       "7         s8    Movie                       187  Kevin Reynolds   \n",
       "108     s109  TV Show  3Below: Tales of Arcadia             NaN   \n",
       "111     s112  TV Show                   44 Cats             NaN   \n",
       "170     s171    Movie              A Family Man   Mark Williams   \n",
       "...      ...      ...                       ...             ...   \n",
       "7758   s7757  TV Show                        Z4             NaN   \n",
       "7761   s7760  TV Show                 Zak Storm             NaN   \n",
       "7768   s7767  TV Show              Zig & Sharko             NaN   \n",
       "7777   s7776  TV Show                Zoids Wild             NaN   \n",
       "7779   s7778  TV Show               Zombie Dumb             NaN   \n",
       "\n",
       "                                                   Cast  \\\n",
       "4     Jim Sturgess, Kevin Spacey, Kate Bosworth, Aar...   \n",
       "7     Samuel L. Jackson, John Heard, Kelly Rowan, Cl...   \n",
       "108   Tatiana Maslany, Diego Luna, Nick Offerman, Ni...   \n",
       "111   Sarah Natochenny, Suzy Myers, Simona Berman, E...   \n",
       "170   Gerard Butler, Gretchen Mol, Alison Brie, Will...   \n",
       "...                                                 ...   \n",
       "7758  Apollo Costa, Gabriel Santana, Matheus Lustosa...   \n",
       "7761  Michael Johnston, Jessica Gee-George, Christin...   \n",
       "7768                                                NaN   \n",
       "7777  Kensho Ono, Takahiro Sakurai, Mikako Komatsu, ...   \n",
       "7779                                                NaN   \n",
       "\n",
       "                                            Country        Release_Date  \\\n",
       "4                                     United States     January 1, 2020   \n",
       "7                                     United States    November 1, 2019   \n",
       "108                                   United States       July 12, 2019   \n",
       "111                                           Italy     October 1, 2020   \n",
       "170                           Canada, United States   December 15, 2019   \n",
       "...                                             ...                 ...   \n",
       "7758                                         Brazil   February 22, 2019   \n",
       "7761  United States, France, South Korea, Indonesia  September 13, 2018   \n",
       "7768                                         France    December 1, 2017   \n",
       "7777                                          Japan     August 14, 2020   \n",
       "7779                                            NaN        July 1, 2019   \n",
       "\n",
       "     Rating   Duration                                               Type  \\\n",
       "4     PG-13    123 min                                             Dramas   \n",
       "7         R    119 min                                             Dramas   \n",
       "108   TV-Y7  2 Seasons  Kids' TV, TV Action & Adventure, TV Sci-Fi & F...   \n",
       "111   TV-Y7  2 Seasons                                           Kids' TV   \n",
       "170       R    110 min                                             Dramas   \n",
       "...     ...        ...                                                ...   \n",
       "7758  TV-PG  2 Seasons                                           Kids' TV   \n",
       "7761  TV-Y7  3 Seasons                                           Kids' TV   \n",
       "7768  TV-Y7   1 Season                              Kids' TV, TV Comedies   \n",
       "7777  TV-Y7   1 Season                             Anime Series, Kids' TV   \n",
       "7779  TV-Y7  2 Seasons             Kids' TV, Korean TV Shows, TV Comedies   \n",
       "\n",
       "                                            Description    Year  Minutes  \\\n",
       "4     A brilliant group of students become card-coun...  2020.0      123   \n",
       "7     After one of his high school students attacks ...  2019.0      119   \n",
       "108   After crash-landing on Earth, two royal teen a...  2019.0        2   \n",
       "111   Paw-esome tales abound when singing furry frie...  2020.0        2   \n",
       "170   A ruthless corporate headhunter battles his ri...  2019.0      110   \n",
       "...                                                 ...     ...      ...   \n",
       "7758  Fading music biz veteran Zé realizes he has ju...  2019.0        2   \n",
       "7761  Teen surfer Zak Storm is mysteriously transpor...  2018.0        3   \n",
       "7768  Zig, an island-bound hyena, will do anything t...  2017.0        1   \n",
       "7777  A quest for freedom and legendary treasure beg...  2020.0        1   \n",
       "7779  While living alone in a spooky town, a young g...  2019.0        2   \n",
       "\n",
       "         Unit  \n",
       "4         min  \n",
       "7         min  \n",
       "108   Seasons  \n",
       "111   Seasons  \n",
       "170       min  \n",
       "...       ...  \n",
       "7758  Seasons  \n",
       "7761  Seasons  \n",
       "7768   Season  \n",
       "7777   Season  \n",
       "7779  Seasons  \n",
       "\n",
       "[531 rows x 14 columns]"
      ]
     },
     "execution_count": 28,
     "metadata": {},
     "output_type": "execute_result"
    }
   ],
   "source": [
    "result = df[\n",
    "    ((df['Category'] == 'TV Show') & (df['Type'].str.contains(\"Kids' TV\", na=False))) |\n",
    "    ((df['Category'] == 'Movie') & (df['Type'] == 'Dramas'))\n",
    "]\n",
    "\n",
    "\n",
    "result"
   ]
  },
  {
   "cell_type": "code",
   "execution_count": 33,
   "id": "eb3f59db",
   "metadata": {},
   "outputs": [
    {
     "data": {
      "text/plain": [
       "<Axes: xlabel='Year', ylabel='Category'>"
      ]
     },
     "execution_count": 33,
     "metadata": {},
     "output_type": "execute_result"
    },
    {
     "data": {
      "image/png": "[encoded data removed]",
      "text/plain": [
       "<Figure size 640x480 with 1 Axes>"
      ]
     },
     "metadata": {},
     "output_type": "display_data"
    }
   ],
   "source": [
    "sns.violinplot(data=df,x=\"Year\", y =\"Category\")\n"
   ]
  },
  {
   "cell_type": "code",
   "execution_count": 43,
   "id": "78c64ef3",
   "metadata": {},
   "outputs": [
    {
     "data": {
      "text/plain": [
       "<Axes: xlabel='Category', ylabel='Year'>"
      ]
     },
     "execution_count": 43,
     "metadata": {},
     "output_type": "execute_result"
    },
    {
     "data": {
      "image/png": "[encoded data removed]",
      "text/plain": [
       "<Figure size 640x480 with 1 Axes>"
      ]
     },
     "metadata": {},
     "output_type": "display_data"
    }
   ],
   "source": [
    "sns.boxplot(data=df,x=\"Category\", y =\"Year\")"
   ]
  },
  {
   "cell_type": "markdown",
   "id": "02941271",
   "metadata": {
    "papermill": {
     "duration": 0.011092,
     "end_time": "2025-08-03T10:55:51.465762",
     "exception": false,
     "start_time": "2025-08-03T10:55:51.454670",
     "status": "completed"
    },
    "tags": []
   },
   "source": [
    " \n",
    "Following functions and methods were utilized in this analysis, demonstrating their utility in data manipulation, exploration, and visualization:\n",
    "\n",
    "| **Function/Method** | **Library** | **Use Case** |\n",
    "|---------------------|-------------|--------------|\n",
    "| `pd.read_csv()` | Pandas | Loads a CSV file into a DataFrame for analysis. |\n",
    "| `df.head()` | Pandas | Displays the first five rows to preview the dataset structure. |\n",
    "| `df.info()` | Pandas | Summarizes DataFrame metadata, including column types and non-null counts. |\n",
    "| `df.tail()` | Pandas | Shows the last five rows of the DataFrame. |\n",
    "| `df.dtypes` | Pandas | Lists the data types of each column. |\n",
    "| `df['column'].value_counts()` | Pandas | Counts unique values in a column, useful for frequency analysis. |\n",
    "| `df.isna().sum()` | Pandas | Calculates the number of missing values per column. |\n",
    "| `df.shape` | Pandas | Returns the dimensions (rows, columns) of the DataFrame. |\n",
    "| `df.columns` | Pandas | Lists all column names in the DataFrame. |\n",
    "| `pd.to_datetime()` | Pandas | Converts a column to datetime format for date-based operations. |\n",
    "| `df['column'].str.contains()` | Pandas | Searches for a substring within a column, handling partial matches. |\n",
    "| `df.sort_values()` | Pandas | Sorts the DataFrame by specified columns. |\n",
    "| `sns.countplot()` | Seaborn | Creates a bar plot to visualize categorical data counts. |\n",
    "| `plt.plot()` | Matplotlib | Generates a bar plot for visualizing data distributions. |\n",
    "| `df['column'].unique()` | Pandas | Retrieves unique values in a column. |\n",
    "\n"
   ]
  }
 ],
 "metadata": {
  "kaggle": {
   "accelerator": "none",
   "dataSources": [
    {
     "datasetId": 7979347,
     "sourceId": 12628520,
     "sourceType": "datasetVersion"
    }
   ],
   "dockerImageVersionId": 31089,
   "isGpuEnabled": false,
   "isInternetEnabled": true,
   "language": "python",
   "sourceType": "notebook"
  },
  "kernelspec": {
   "display_name": "Python 3",
   "language": "python",
   "name": "python3"
  },
  "language_info": {
   "codemirror_mode": {
    "name": "ipython",
    "version": 3
   },
   "file_extension": ".py",
   "mimetype": "text/x-python",
   "name": "python",
   "nbconvert_exporter": "python",
   "pygments_lexer": "ipython3",
   "version": "3.13.7"
  },
  "papermill": {
   "default_parameters": {},
   "duration": 12.183603,
   "end_time": "2025-08-03T10:55:52.472268",
   "environment_variables": {},
   "exception": null,
   "input_path": "__notebook__.ipynb",
   "output_path": "__notebook__.ipynb",
   "parameters": {},
   "start_time": "2025-08-03T10:55:40.288665",
   "version": "2.6.0"
  }
 },
 "nbformat": 4,
 "nbformat_minor": 5
}
